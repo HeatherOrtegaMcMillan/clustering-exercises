{
 "cells": [
  {
   "cell_type": "markdown",
   "id": "2d9ac5f0-2efa-4cf0-975c-27762443f41f",
   "metadata": {},
   "source": [
    "# Cluster Data Wrangling \n",
    "\n",
    "<hr style=\"border-top: 10px groove #1277e1; margin-top: 1px; margin-bottom: 1px\"></hr>"
   ]
  },
  {
   "cell_type": "code",
   "execution_count": 1,
   "id": "6cdefd34-7309-4799-9cd3-6fdd1aa8a3fe",
   "metadata": {},
   "outputs": [],
   "source": [
    "import pandas as pd\n",
    "import numpy as np\n",
    "import math\n",
    "import matplotlib.pyplot as plt\n",
    "import seaborn as sns\n",
    "import datetime\n",
    "\n",
    "from pydataset import data\n",
    "\n",
    "import wrangle as w\n",
    "\n",
    "\n",
    "import warnings\n",
    "warnings.filterwarnings(\"ignore\")"
   ]
  },
  {
   "cell_type": "markdown",
   "id": "51ef7f7a-2746-413e-b1c7-1f95d503cf8d",
   "metadata": {},
   "source": [
    "\n",
    "<hr style=\"border-top: 10px groove #1277e1; margin-top: 1px; margin-bottom: 1px\"></hr>\n",
    "\n",
    "### Zillow\n",
    "For the following, iterate through the steps you would take to create functions: Write the code to do the following in a jupyter notebook, test it, convert to functions, then create the file to house those functions.\n",
    "\n",
    "You will have a zillow.ipynb file and a helper file for each section in the pipeline.\n",
    "\n",
    "#### acquire & summarize\n",
    "1. Acquire data from mySQL using the python module to connect and query. You will want to end with a single dataframe. Make sure to include: the logerror, all fields related to the properties that are available. You will end up using all the tables in the database.\n",
    "\n",
    "2. Be sure to do the correct join (inner, outer, etc.). We do not want to eliminate properties purely because they may have a null value for airconditioningtypeid.\n",
    "Only include properties with a transaction in 2017, and include only the last transaction for each property (so no duplicate property ID's), along with zestimate error and date of transaction.\n",
    "Only include properties that include a latitude and longitude value.\n",
    "Summarize your data (summary stats, info, dtypes, shape, distributions, value_counts, etc.)"
   ]
  },
  {
   "cell_type": "code",
   "execution_count": 2,
   "id": "818fde54-c7d1-44ab-9ea5-44a1d2646ee9",
   "metadata": {},
   "outputs": [
    {
     "data": {
      "text/html": [
       "<svg  width=\"275\" height=\"55\"><rect x=\"0\" y=\"0\" width=\"55\" height=\"55\" style=\"fill:#1277e1;stroke-width:2;stroke:rgb(255,255,255)\"/><rect x=\"55\" y=\"0\" width=\"55\" height=\"55\" style=\"fill:#f3ad35;stroke-width:2;stroke:rgb(255,255,255)\"/><rect x=\"110\" y=\"0\" width=\"55\" height=\"55\" style=\"fill:#0b449c;stroke-width:2;stroke:rgb(255,255,255)\"/><rect x=\"165\" y=\"0\" width=\"55\" height=\"55\" style=\"fill:#5289e4;stroke-width:2;stroke:rgb(255,255,255)\"/><rect x=\"220\" y=\"0\" width=\"55\" height=\"55\" style=\"fill:#c3eafb;stroke-width:2;stroke:rgb(255,255,255)\"/></svg>"
      ],
      "text/plain": [
       "[(0.07058823529411765, 0.4666666666666667, 0.8823529411764706),\n",
       " (0.9529411764705882, 0.6784313725490196, 0.20784313725490197),\n",
       " (0.043137254901960784, 0.26666666666666666, 0.611764705882353),\n",
       " (0.3215686274509804, 0.5372549019607843, 0.8941176470588236),\n",
       " (0.7647058823529411, 0.9176470588235294, 0.984313725490196)]"
      ]
     },
     "execution_count": 2,
     "metadata": {},
     "output_type": "execute_result"
    }
   ],
   "source": [
    "# set and use zillow color palette\n",
    "zpalette = ['#1277e1', '#f3ad35', '#0b449c', '#5289e4', '#c3eafb']\n",
    "sns.set_palette(zpalette)\n",
    "sns.color_palette()"
   ]
  },
  {
   "cell_type": "code",
   "execution_count": 8,
   "id": "d16f3b7e-796a-45f2-932f-41efad761975",
   "metadata": {},
   "outputs": [],
   "source": [
    "from env import host, password, user\n",
    "import os\n",
    "\n",
    "###################### Getting database Url ################\n",
    "def get_db_url(db_name, user=user, host=host, password=password):\n",
    "    \"\"\"\n",
    "        This helper function takes as default the user host and password from the env file.\n",
    "        You must input the database name. It returns the appropriate URL to use in connecting to a database.\n",
    "    \"\"\"\n",
    "    url = f'mysql+pymysql://{user}:{password}@{host}/{db_name}'\n",
    "    return url\n",
    "\n",
    "######################### get generic data #########################\n",
    "def get_any_data(database, sql_query):\n",
    "    '''\n",
    "    put in the query and the database and get the data you need in a dataframe\n",
    "    '''\n",
    "\n",
    "    return pd.read_sql(sql_query, get_db_url(database))\n",
    "\n",
    "######################### get Zillow Data #########################\n",
    "def get_zillow_data():\n",
    "    '''\n",
    "    This function reads in Zillow data from Codeup database, writes data to\n",
    "    a csv file if a local file does not exist, and returns a df.\n",
    "    '''\n",
    "    sql_query = \"\"\"\n",
    "                SELECT parcelid, airconditioningtypeid, airconditioningdesc, architecturalstyletypeid, architecturalstyledesc,\n",
    "                bathroomcnt, bedroomcnt, buildingclasstypeid, buildingclassdesc, buildingqualitytypeid,\n",
    "                decktypeid, calculatedfinishedsquarefeet, fips, fireplacecnt, fireplaceflag, garagecarcnt, garagetotalsqft,\n",
    "                hashottuborspa, latitude, longitude, lotsizesquarefeet, poolcnt, poolsizesum, propertycountylandusecode,\n",
    "                propertylandusetypeid, propertylandusedesc, propertyzoningdesc, rawcensustractandblock, \n",
    "                regionidcity, regionidcounty, regionidneighborhood, roomcnt, threequarterbathnbr, typeconstructiontypeid, typeconstructiondesc, unitcnt, yearbuilt, numberofstories, structuretaxvaluedollarcnt, taxvaluedollarcnt, assessmentyear, \n",
    "                landtaxvaluedollarcnt, taxamount, censustractandblock, logerror, transactiondate \n",
    "                FROM properties_2017 AS p\n",
    "                JOIN predictions_2017 USING (parcelid)\n",
    "                INNER JOIN (SELECT parcelid, MAX(transactiondate) AS transactiondate\n",
    "                FROM predictions_2017\n",
    "                GROUP BY parcelid) \n",
    "                AS t USING (parcelid, transactiondate)\n",
    "                LEFT JOIN airconditioningtype USING (airconditioningtypeid)\n",
    "                LEFT JOIN architecturalstyletype USING (architecturalstyletypeid)\n",
    "                LEFT JOIN buildingclasstype USING (buildingclasstypeid)\n",
    "                LEFT JOIN heatingorsystemtype USING (heatingorsystemtypeid)\n",
    "                LEFT JOIN propertylandusetype USING (propertylandusetypeid)\n",
    "                LEFT JOIN storytype USING (storytypeid)\n",
    "                LEFT JOIN typeconstructiontype USING (typeconstructiontypeid)\n",
    "                WHERE latitude IS NOT NULL AND longitude IS NOT NULL \n",
    "                AND transactiondate LIKE \"2017%%\";\n",
    "                \"\"\"\n",
    "    if os.path.isfile('zillow_data.csv'):\n",
    "        \n",
    "        # If csv file exists read in data from csv file.\n",
    "        df = pd.read_csv('zillow_data.csv', index_col=0)\n",
    "        \n",
    "    else:\n",
    "        \n",
    "        # Read fresh data from db into a DataFrame\n",
    "        df = pd.read_sql(sql_query, get_db_url('zillow'))\n",
    "        \n",
    "        # Cache data\n",
    "        df.to_csv('zillow_data.csv')\n",
    "\n",
    "    return df"
   ]
  },
  {
   "cell_type": "code",
   "execution_count": 9,
   "id": "dad998da-6d5d-43aa-a83f-5ea075e74278",
   "metadata": {},
   "outputs": [],
   "source": [
    "# get the data using function\n",
    "df = get_zillow_data()"
   ]
  },
  {
   "cell_type": "code",
   "execution_count": 12,
   "id": "6b2fd6a8-5100-4eba-beea-ffaadae0327b",
   "metadata": {},
   "outputs": [
    {
     "data": {
      "text/plain": [
       "(77380, 46)"
      ]
     },
     "execution_count": 12,
     "metadata": {},
     "output_type": "execute_result"
    }
   ],
   "source": [
    "# shape  of dataframe\n",
    "df.shape"
   ]
  },
  {
   "cell_type": "code",
   "execution_count": 13,
   "id": "8234e8cb-1630-4f50-bc9d-2a642fae0d1a",
   "metadata": {},
   "outputs": [
    {
     "name": "stdout",
     "output_type": "stream",
     "text": [
      "<class 'pandas.core.frame.DataFrame'>\n",
      "RangeIndex: 77380 entries, 0 to 77379\n",
      "Data columns (total 46 columns):\n",
      " #   Column                        Non-Null Count  Dtype  \n",
      "---  ------                        --------------  -----  \n",
      " 0   parcelid                      77380 non-null  int64  \n",
      " 1   airconditioningtypeid         24953 non-null  float64\n",
      " 2   airconditioningdesc           24953 non-null  object \n",
      " 3   architecturalstyletypeid      206 non-null    float64\n",
      " 4   architecturalstyledesc        206 non-null    object \n",
      " 5   bathroomcnt                   77380 non-null  float64\n",
      " 6   bedroomcnt                    77380 non-null  float64\n",
      " 7   buildingclasstypeid           15 non-null     float64\n",
      " 8   buildingclassdesc             15 non-null     object \n",
      " 9   buildingqualitytypeid         49671 non-null  float64\n",
      " 10  decktypeid                    614 non-null    float64\n",
      " 11  calculatedfinishedsquarefeet  77184 non-null  float64\n",
      " 12  fips                          77380 non-null  float64\n",
      " 13  fireplacecnt                  8276 non-null   float64\n",
      " 14  fireplaceflag                 172 non-null    float64\n",
      " 15  garagecarcnt                  25474 non-null  float64\n",
      " 16  garagetotalsqft               25474 non-null  float64\n",
      " 17  hashottuborspa                1538 non-null   float64\n",
      " 18  latitude                      77380 non-null  float64\n",
      " 19  longitude                     77380 non-null  float64\n",
      " 20  lotsizesquarefeet             69141 non-null  float64\n",
      " 21  poolcnt                       16137 non-null  float64\n",
      " 22  poolsizesum                   867 non-null    float64\n",
      " 23  propertycountylandusecode     77380 non-null  object \n",
      " 24  propertylandusetypeid         77380 non-null  float64\n",
      " 25  propertylandusedesc           77380 non-null  object \n",
      " 26  propertyzoningdesc            50330 non-null  object \n",
      " 27  rawcensustractandblock        77380 non-null  float64\n",
      " 28  regionidcity                  75909 non-null  float64\n",
      " 29  regionidcounty                77380 non-null  float64\n",
      " 30  regionidneighborhood          30890 non-null  float64\n",
      " 31  roomcnt                       77380 non-null  float64\n",
      " 32  threequarterbathnbr           10096 non-null  float64\n",
      " 33  typeconstructiontypeid        222 non-null    float64\n",
      " 34  typeconstructiondesc          222 non-null    object \n",
      " 35  unitcnt                       50562 non-null  float64\n",
      " 36  yearbuilt                     77117 non-null  float64\n",
      " 37  numberofstories               17560 non-null  float64\n",
      " 38  structuretaxvaluedollarcnt    77268 non-null  float64\n",
      " 39  taxvaluedollarcnt             77379 non-null  float64\n",
      " 40  assessmentyear                77380 non-null  float64\n",
      " 41  landtaxvaluedollarcnt         77378 non-null  float64\n",
      " 42  taxamount                     77375 non-null  float64\n",
      " 43  censustractandblock           77136 non-null  float64\n",
      " 44  logerror                      77380 non-null  float64\n",
      " 45  transactiondate               77380 non-null  object \n",
      "dtypes: float64(37), int64(1), object(8)\n",
      "memory usage: 27.2+ MB\n"
     ]
    }
   ],
   "source": [
    "df.info()"
   ]
  },
  {
   "cell_type": "code",
   "execution_count": 36,
   "id": "5d34bc46-ab73-4ebf-a040-320a5f817256",
   "metadata": {},
   "outputs": [],
   "source": [
    "def count_object_values(df):\n",
    "    \n",
    "    obj_cols = [col for col in df.columns if df[col].dtype == 'object']\n",
    "    \n",
    "    for col in obj_cols:\n",
    "        print(f'------{col}-------')\n",
    "        print(df[col].value_counts())"
   ]
  },
  {
   "cell_type": "code",
   "execution_count": 49,
   "id": "b6bc0ed8-dd90-44a0-9d80-6433e1361ebf",
   "metadata": {},
   "outputs": [],
   "source": [
    "def count_vals_less_10(df):\n",
    "    \n",
    "    small_cols = [col for col in df.columns if df[col].nunique() < 10]\n",
    "    \n",
    "    for col in small_cols:\n",
    "        print(f'------{col}-------')\n",
    "        print(df[col].value_counts())\n",
    "        print(f'~~~~~~~~~~~~~~~~~~~~~~~~~~~~~~~~~~~~')"
   ]
  },
  {
   "cell_type": "code",
   "execution_count": 66,
   "id": "0ada9dcd-6f42-45f2-a3e0-0c27e65e0238",
   "metadata": {},
   "outputs": [],
   "source": [
    "def count_unique(df):\n",
    "    columns = df.columns\n",
    "    \n",
    "    for col in columns:\n",
    "        print(f'{col} unique values\\n{df[col].nunique()}\\n================ ')"
   ]
  },
  {
   "cell_type": "code",
   "execution_count": 88,
   "id": "819b4a80-d883-4f8a-86a6-e83385e224c7",
   "metadata": {},
   "outputs": [],
   "source": [
    "def overview(df, thresh = 10):\n",
    "    '''\n",
    "    This function takes in a dataframe and prints out useful things about each column.\n",
    "    Unique values, value counts for columns less than 10 (can be adjusted with optional arguement thresh)\n",
    "    Whether or not the row has nulls\n",
    "    '''\n",
    "    # create list of columns\n",
    "    col_list = df.columns\n",
    "    \n",
    "    # loop through column list\n",
    "    for col in col_list:\n",
    "        # seperator using column name\n",
    "        print(f'============== {col} ==============')\n",
    "        \n",
    "        # print out unique values for each column\n",
    "        print(f'# Unique Vals: {df[col].nunique()}')\n",
    "        \n",
    "        # if number of things is under or equal to the threshold  print a value counts\n",
    "        if df[col].nunique() <= thresh:\n",
    "            print(df[col].value_counts(dropna = False).sort_index(ascending = True))\n",
    "            \n",
    "        # if the number is less than 150 and not an object, bin it and do value counts\n",
    "        elif (df[col].nunique() < 150) and df[col].dtype != 'object' :\n",
    "            print(df[col].value_counts(bins = 10, dropna=False).sort_index(ascending = True))\n",
    "        \n",
    "        # Space for readability \n",
    "        print('')\n",
    "       "
   ]
  },
  {
   "cell_type": "code",
   "execution_count": 89,
   "id": "5e0a81d4-2457-402b-a523-910bd5750782",
   "metadata": {},
   "outputs": [
    {
     "name": "stdout",
     "output_type": "stream",
     "text": [
      "============== parcelid ==============\n",
      "# Unique Vals: 77380\n",
      "\n",
      "============== airconditioningtypeid ==============\n",
      "# Unique Vals: 5\n",
      "1.0     23133\n",
      "5.0       167\n",
      "9.0        26\n",
      "11.0       53\n",
      "13.0     1574\n",
      "NaN     52427\n",
      "Name: airconditioningtypeid, dtype: int64\n",
      "\n",
      "============== airconditioningdesc ==============\n",
      "# Unique Vals: 5\n",
      "Central          23133\n",
      "None               167\n",
      "Refrigeration       26\n",
      "Wall Unit           53\n",
      "Yes               1574\n",
      "NaN              52427\n",
      "Name: airconditioningdesc, dtype: int64\n",
      "\n",
      "============== architecturalstyletypeid ==============\n",
      "# Unique Vals: 5\n",
      "2.0         5\n",
      "3.0         3\n",
      "7.0       172\n",
      "8.0        19\n",
      "21.0        7\n",
      "NaN     77174\n",
      "Name: architecturalstyletypeid, dtype: int64\n",
      "\n",
      "============== architecturalstyledesc ==============\n",
      "# Unique Vals: 5\n",
      "Bungalow             5\n",
      "Cape Cod             3\n",
      "Contemporary       172\n",
      "Conventional        19\n",
      "Ranch/Rambler        7\n",
      "NaN              77174\n",
      "Name: architecturalstyledesc, dtype: int64\n",
      "\n",
      "============== bathroomcnt ==============\n",
      "# Unique Vals: 22\n",
      "0.0       592\n",
      "1.0     12902\n",
      "1.5      1415\n",
      "2.0     31484\n",
      "2.5      6604\n",
      "3.0     17313\n",
      "3.5      1034\n",
      "4.0      3352\n",
      "4.5       695\n",
      "5.0      1026\n",
      "5.5       224\n",
      "6.0       417\n",
      "6.5        47\n",
      "7.0       113\n",
      "7.5        16\n",
      "8.0       108\n",
      "8.5         3\n",
      "9.0        23\n",
      "10.0        7\n",
      "11.0        3\n",
      "13.0        1\n",
      "18.0        1\n",
      "Name: bathroomcnt, dtype: int64\n",
      "\n",
      "============== bedroomcnt ==============\n",
      "# Unique Vals: 16\n",
      "0.0       830\n",
      "1.0      3379\n",
      "2.0     19169\n",
      "3.0     30361\n",
      "4.0     17513\n",
      "5.0      4543\n",
      "6.0       998\n",
      "7.0       208\n",
      "8.0       252\n",
      "9.0        70\n",
      "10.0       31\n",
      "11.0        8\n",
      "12.0       14\n",
      "13.0        2\n",
      "14.0        1\n",
      "16.0        1\n",
      "Name: bedroomcnt, dtype: int64\n",
      "\n",
      "============== buildingclasstypeid ==============\n",
      "# Unique Vals: 2\n",
      "3.0        1\n",
      "4.0       14\n",
      "NaN    77365\n",
      "Name: buildingclasstypeid, dtype: int64\n",
      "\n",
      "============== buildingclassdesc ==============\n",
      "# Unique Vals: 2\n",
      "Buildings having exterior walls built of a non-combustible material such as brick, concrete, block or poured concrete. Interior partitions and roof structures are built of combustible materials. Floor may be concrete or wood frame.        1\n",
      "Buildings having wood or wood and steel frames                                                                                                                                                                                                14\n",
      "NaN                                                                                                                                                                                                                                        77365\n",
      "Name: buildingclassdesc, dtype: int64\n",
      "\n",
      "============== buildingqualitytypeid ==============\n",
      "# Unique Vals: 12\n",
      "1.0        26\n",
      "2.0         9\n",
      "3.0       329\n",
      "4.0      9482\n",
      "5.0      2088\n",
      "6.0     13462\n",
      "7.0      5971\n",
      "8.0     14645\n",
      "9.0      2299\n",
      "10.0      313\n",
      "11.0      931\n",
      "12.0      116\n",
      "NaN     27709\n",
      "Name: buildingqualitytypeid, dtype: int64\n",
      "\n",
      "============== decktypeid ==============\n",
      "# Unique Vals: 1\n",
      "66.0      614\n",
      "NaN     76766\n",
      "Name: decktypeid, dtype: int64\n",
      "\n",
      "============== calculatedfinishedsquarefeet ==============\n",
      "# Unique Vals: 4972\n",
      "\n",
      "============== fips ==============\n",
      "# Unique Vals: 3\n",
      "6037.0    50550\n",
      "6059.0    20593\n",
      "6111.0     6237\n",
      "Name: fips, dtype: int64\n",
      "\n",
      "============== fireplacecnt ==============\n",
      "# Unique Vals: 5\n",
      "1.0     7008\n",
      "2.0      995\n",
      "3.0      235\n",
      "4.0       35\n",
      "5.0        3\n",
      "NaN    69104\n",
      "Name: fireplacecnt, dtype: int64\n",
      "\n",
      "============== fireplaceflag ==============\n",
      "# Unique Vals: 1\n",
      "1.0      172\n",
      "NaN    77208\n",
      "Name: fireplaceflag, dtype: int64\n",
      "\n",
      "============== garagecarcnt ==============\n",
      "# Unique Vals: 14\n",
      "0.0       230\n",
      "1.0      5676\n",
      "2.0     18608\n",
      "3.0       632\n",
      "4.0       255\n",
      "5.0        45\n",
      "6.0        14\n",
      "7.0         4\n",
      "8.0         2\n",
      "9.0         2\n",
      "10.0        3\n",
      "11.0        1\n",
      "13.0        1\n",
      "14.0        1\n",
      "NaN     51906\n",
      "Name: garagecarcnt, dtype: int64\n",
      "\n",
      "============== garagetotalsqft ==============\n",
      "# Unique Vals: 839\n",
      "\n",
      "============== hashottuborspa ==============\n",
      "# Unique Vals: 1\n",
      "1.0     1538\n",
      "NaN    75842\n",
      "Name: hashottuborspa, dtype: int64\n",
      "\n",
      "============== latitude ==============\n",
      "# Unique Vals: 64037\n",
      "\n",
      "============== longitude ==============\n",
      "# Unique Vals: 62460\n",
      "\n",
      "============== lotsizesquarefeet ==============\n",
      "# Unique Vals: 18848\n",
      "\n",
      "============== poolcnt ==============\n",
      "# Unique Vals: 1\n",
      "1.0    16137\n",
      "NaN    61243\n",
      "Name: poolcnt, dtype: int64\n",
      "\n",
      "============== poolsizesum ==============\n",
      "# Unique Vals: 262\n",
      "\n",
      "============== propertycountylandusecode ==============\n",
      "# Unique Vals: 75\n",
      "\n",
      "============== propertylandusetypeid ==============\n",
      "# Unique Vals: 13\n",
      "31.0        15\n",
      "246.0     2009\n",
      "247.0      535\n",
      "248.0      727\n",
      "260.0       37\n",
      "261.0    52319\n",
      "263.0       74\n",
      "264.0        6\n",
      "265.0      333\n",
      "266.0    19294\n",
      "267.0       29\n",
      "269.0     1944\n",
      "275.0       58\n",
      "Name: propertylandusetypeid, dtype: int64\n",
      "\n",
      "============== propertylandusedesc ==============\n",
      "# Unique Vals: 13\n",
      "Cluster Home                                    333\n",
      "Commercial/Office/Residential Mixed Used         15\n",
      "Condominium                                   19294\n",
      "Cooperative                                      29\n",
      "Duplex (2 Units, Any Combination)              2009\n",
      "Manufactured, Modular, Prefabricated Homes       58\n",
      "Mobile Home                                      74\n",
      "Planned Unit Development                       1944\n",
      "Quadruplex (4 Units, Any Combination)           727\n",
      "Residential General                              37\n",
      "Single Family Residential                     52319\n",
      "Townhouse                                         6\n",
      "Triplex (3 Units, Any Combination)              535\n",
      "Name: propertylandusedesc, dtype: int64\n",
      "\n",
      "============== propertyzoningdesc ==============\n",
      "# Unique Vals: 1907\n",
      "\n",
      "============== rawcensustractandblock ==============\n",
      "# Unique Vals: 39194\n",
      "\n",
      "============== regionidcity ==============\n",
      "# Unique Vals: 175\n",
      "\n",
      "============== regionidcounty ==============\n",
      "# Unique Vals: 3\n",
      "1286.0    20593\n",
      "2061.0     6237\n",
      "3101.0    50550\n",
      "Name: regionidcounty, dtype: int64\n",
      "\n",
      "============== regionidneighborhood ==============\n",
      "# Unique Vals: 480\n",
      "\n",
      "============== roomcnt ==============\n",
      "# Unique Vals: 16\n",
      "0.0     59807\n",
      "1.0         1\n",
      "2.0        15\n",
      "3.0       211\n",
      "4.0      1415\n",
      "5.0      3016\n",
      "6.0      4513\n",
      "7.0      3838\n",
      "8.0      2872\n",
      "9.0      1193\n",
      "10.0      339\n",
      "11.0      108\n",
      "12.0       35\n",
      "13.0       10\n",
      "14.0        6\n",
      "15.0        1\n",
      "Name: roomcnt, dtype: int64\n",
      "\n",
      "============== threequarterbathnbr ==============\n",
      "# Unique Vals: 4\n",
      "1.0    10012\n",
      "2.0       75\n",
      "3.0        8\n",
      "7.0        1\n",
      "NaN    67284\n",
      "Name: threequarterbathnbr, dtype: int64\n",
      "\n",
      "============== typeconstructiontypeid ==============\n",
      "# Unique Vals: 4\n",
      "4.0         1\n",
      "6.0       219\n",
      "10.0        1\n",
      "13.0        1\n",
      "NaN     77158\n",
      "Name: typeconstructiontypeid, dtype: int64\n",
      "\n",
      "============== typeconstructiondesc ==============\n",
      "# Unique Vals: 4\n",
      "Concrete        1\n",
      "Frame         219\n",
      "Masonry         1\n",
      "Metal           1\n",
      "NaN         77158\n",
      "Name: typeconstructiondesc, dtype: int64\n",
      "\n",
      "============== unitcnt ==============\n",
      "# Unique Vals: 8\n",
      "1.0      47292\n",
      "2.0       2018\n",
      "3.0        525\n",
      "4.0        723\n",
      "6.0          1\n",
      "42.0         1\n",
      "45.0         1\n",
      "237.0        1\n",
      "NaN      26818\n",
      "Name: unitcnt, dtype: int64\n",
      "\n",
      "============== yearbuilt ==============\n",
      "# Unique Vals: 136\n",
      "(1823.807, 1843.2]        1\n",
      "(1843.2, 1862.4]          0\n",
      "(1862.4, 1881.6]          3\n",
      "(1881.6, 1900.8]         90\n",
      "(1900.8, 1920.0]       1743\n",
      "(1920.0, 1939.2]       6688\n",
      "(1939.2, 1958.4]      18463\n",
      "(1958.4, 1977.6]      20354\n",
      "(1977.6, 1996.8]      19097\n",
      "(1996.8, 2016.0]      10678\n",
      "Name: yearbuilt, dtype: int64\n",
      "\n",
      "============== numberofstories ==============\n",
      "# Unique Vals: 4\n",
      "1.0    10366\n",
      "2.0     6757\n",
      "3.0      436\n",
      "6.0        1\n",
      "NaN    59820\n",
      "Name: numberofstories, dtype: int64\n",
      "\n",
      "============== structuretaxvaluedollarcnt ==============\n",
      "# Unique Vals: 50429\n",
      "\n",
      "============== taxvaluedollarcnt ==============\n",
      "# Unique Vals: 50948\n",
      "\n",
      "============== assessmentyear ==============\n",
      "# Unique Vals: 1\n",
      "2016.0    77380\n",
      "Name: assessmentyear, dtype: int64\n",
      "\n",
      "============== landtaxvaluedollarcnt ==============\n",
      "# Unique Vals: 51600\n",
      "\n",
      "============== taxamount ==============\n",
      "# Unique Vals: 73824\n",
      "\n",
      "============== censustractandblock ==============\n",
      "# Unique Vals: 39006\n",
      "\n",
      "============== logerror ==============\n",
      "# Unique Vals: 76836\n",
      "\n",
      "============== transactiondate ==============\n",
      "# Unique Vals: 264\n",
      "\n"
     ]
    }
   ],
   "source": [
    "overview(df, thresh = 23) "
   ]
  },
  {
   "cell_type": "markdown",
   "id": "62eca45b-f951-4dfb-a693-b31721221a05",
   "metadata": {},
   "source": [
    "#### Takeaways\n",
    "- not sure what roomcnt is and how it's different from bedrooms and bathrooms \n",
    "- three quarter bath seems redundant \n",
    "- most of the homes here are single family \n",
    "- there's someone who has a 14 car garage (maybe it's a quadruplex or something)\n",
    "- three houses have 5 fireplaces. Must be really cold there in Southern California\n",
    "- Date could be changed to a datetime object"
   ]
  },
  {
   "cell_type": "code",
   "execution_count": 119,
   "id": "f653603b-0e36-480e-be71-848daedef4c6",
   "metadata": {},
   "outputs": [],
   "source": [
    "def plot_variable_dist(df, figsize = (3,2)):\n",
    "    '''\n",
    "    This function is for exploring. Takes in a dataframe with variables you would like to see the distribution of.\n",
    "    Input the dataframe (either fully, or using .drop) with ONLY the columns you want to see plotted.\n",
    "    Optional arguement figsize. Default it's small. \n",
    "    BTW if you just put list(df) it pulls out only the column names\n",
    "    '''\n",
    "    # create list of columns with numeric values\n",
    "    num_col = [col for col in list(df) if df[col].dtype != 'O']\n",
    "    \n",
    "    # loop through columns and use seaborn to plot distributions\n",
    "    for col in num_col:\n",
    "        plt.figure(figsize=figsize)\n",
    "        sns.histplot(data = df, x = col, kde=True)\n",
    "        plt.title(f'Distribution of {col}')\n",
    "        plt.show()"
   ]
  },
  {
   "cell_type": "code",
   "execution_count": 120,
   "id": "6e13749d-4c9f-4841-9566-8729a3a907f1",
   "metadata": {},
   "outputs": [
    {
     "data": {
      "image/png": "[encoded data removed]",
      "text/plain": [
       "<Figure size 216x144 with 1 Axes>"
      ]
     },
     "metadata": {
      "needs_background": "light"
     },
     "output_type": "display_data"
    },
    {
     "data": {
      "image/png": "[encoded data removed]",
      "text/plain": [
       "<Figure size 216x144 with 1 Axes>"
      ]
     },
     "metadata": {
      "needs_background": "light"
     },
     "output_type": "display_data"
    },
    {
     "data": {
      "image/png": "[encoded data removed]",
      "text/plain": [
       "<Figure size 216x144 with 1 Axes>"
      ]
     },
     "metadata": {
      "needs_background": "light"
     },
     "output_type": "display_data"
    },
    {
     "data": {
      "image/png": "[encoded data removed]",
      "text/plain": [
       "<Figure size 216x144 with 1 Axes>"
      ]
     },
     "metadata": {
      "needs_background": "light"
     },
     "output_type": "display_data"
    },
    {
     "data": {
      "image/png": "[encoded data removed]",
      "text/plain": [
       "<Figure size 216x144 with 1 Axes>"
      ]
     },
     "metadata": {
      "needs_background": "light"
     },
     "output_type": "display_data"
    },
    {
     "data": {
      "image/png": "[encoded data removed]",
      "text/plain": [
       "<Figure size 216x144 with 1 Axes>"
      ]
     },
     "metadata": {
      "needs_background": "light"
     },
     "output_type": "display_data"
    },
    {
     "data": {
      "image/png": "[encoded data removed]",
      "text/plain": [
       "<Figure size 216x144 with 1 Axes>"
      ]
     },
     "metadata": {
      "needs_background": "light"
     },
     "output_type": "display_data"
    },
    {
     "data": {
      "image/png": "[encoded data removed]",
      "text/plain": [
       "<Figure size 216x144 with 1 Axes>"
      ]
     },
     "metadata": {
      "needs_background": "light"
     },
     "output_type": "display_data"
    },
    {
     "data": {
      "image/png": "[encoded data removed]",
      "text/plain": [
       "<Figure size 216x144 with 1 Axes>"
      ]
     },
     "metadata": {
      "needs_background": "light"
     },
     "output_type": "display_data"
    },
    {
     "data": {
      "image/png": "[encoded data removed]",
      "text/plain": [
       "<Figure size 216x144 with 1 Axes>"
      ]
     },
     "metadata": {
      "needs_background": "light"
     },
     "output_type": "display_data"
    },
    {
     "data": {
      "image/png": "[encoded data removed]",
      "text/plain": [
       "<Figure size 216x144 with 1 Axes>"
      ]
     },
     "metadata": {
      "needs_background": "light"
     },
     "output_type": "display_data"
    },
    {
     "data": {
      "image/png": "[encoded data removed]",
      "text/plain": [
       "<Figure size 216x144 with 1 Axes>"
      ]
     },
     "metadata": {
      "needs_background": "light"
     },
     "output_type": "display_data"
    },
    {
     "data": {
      "image/png": "[encoded data removed]",
      "text/plain": [
       "<Figure size 216x144 with 1 Axes>"
      ]
     },
     "metadata": {
      "needs_background": "light"
     },
     "output_type": "display_data"
    },
    {
     "data": {
      "image/png": "[encoded data removed]",
      "text/plain": [
       "<Figure size 216x144 with 1 Axes>"
      ]
     },
     "metadata": {
      "needs_background": "light"
     },
     "output_type": "display_data"
    },
    {
     "data": {
      "image/png": "[encoded data removed]",
      "text/plain": [
       "<Figure size 216x144 with 1 Axes>"
      ]
     },
     "metadata": {
      "needs_background": "light"
     },
     "output_type": "display_data"
    },
    {
     "data": {
      "image/png": "[encoded data removed]",
      "text/plain": [
       "<Figure size 216x144 with 1 Axes>"
      ]
     },
     "metadata": {
      "needs_background": "light"
     },
     "output_type": "display_data"
    },
    {
     "data": {
      "image/png": "[encoded data removed]",
      "text/plain": [
       "<Figure size 216x144 with 1 Axes>"
      ]
     },
     "metadata": {
      "needs_background": "light"
     },
     "output_type": "display_data"
    },
    {
     "data": {
      "image/png": "[encoded data removed]",
      "text/plain": [
       "<Figure size 216x144 with 1 Axes>"
      ]
     },
     "metadata": {
      "needs_background": "light"
     },
     "output_type": "display_data"
    },
    {
     "data": {
      "image/png": "[encoded data removed]",
      "text/plain": [
       "<Figure size 216x144 with 1 Axes>"
      ]
     },
     "metadata": {
      "needs_background": "light"
     },
     "output_type": "display_data"
    },
    {
     "data": {
      "image/png": "[encoded data removed]",
      "text/plain": [
       "<Figure size 216x144 with 1 Axes>"
      ]
     },
     "metadata": {
      "needs_background": "light"
     },
     "output_type": "display_data"
    },
    {
     "data": {
      "image/png": "[encoded data removed]",
      "text/plain": [
       "<Figure size 216x144 with 1 Axes>"
      ]
     },
     "metadata": {
      "needs_background": "light"
     },
     "output_type": "display_data"
    },
    {
     "data": {
      "image/png": "[encoded data removed]",
      "text/plain": [
       "<Figure size 216x144 with 1 Axes>"
      ]
     },
     "metadata": {
      "needs_background": "light"
     },
     "output_type": "display_data"
    },
    {
     "data": {
      "image/png": "[encoded data removed]",
      "text/plain": [
       "<Figure size 216x144 with 1 Axes>"
      ]
     },
     "metadata": {
      "needs_background": "light"
     },
     "output_type": "display_data"
    },
    {
     "data": {
      "image/png": "[encoded data removed]",
      "text/plain": [
       "<Figure size 216x144 with 1 Axes>"
      ]
     },
     "metadata": {
      "needs_background": "light"
     },
     "output_type": "display_data"
    },
    {
     "data": {
      "image/png": "[encoded data removed]",
      "text/plain": [
       "<Figure size 216x144 with 1 Axes>"
      ]
     },
     "metadata": {
      "needs_background": "light"
     },
     "output_type": "display_data"
    },
    {
     "data": {
      "image/png": "[encoded data removed]",
      "text/plain": [
       "<Figure size 216x144 with 1 Axes>"
      ]
     },
     "metadata": {
      "needs_background": "light"
     },
     "output_type": "display_data"
    },
    {
     "data": {
      "image/png": "[encoded data removed]",
      "text/plain": [
       "<Figure size 216x144 with 1 Axes>"
      ]
     },
     "metadata": {
      "needs_background": "light"
     },
     "output_type": "display_data"
    },
    {
     "data": {
      "image/png": "[encoded data removed]",
      "text/plain": [
       "<Figure size 216x144 with 1 Axes>"
      ]
     },
     "metadata": {
      "needs_background": "light"
     },
     "output_type": "display_data"
    },
    {
     "data": {
      "image/png": "[encoded data removed]",
      "text/plain": [
       "<Figure size 216x144 with 1 Axes>"
      ]
     },
     "metadata": {
      "needs_background": "light"
     },
     "output_type": "display_data"
    },
    {
     "data": {
      "image/png": "[encoded data removed]",
      "text/plain": [
       "<Figure size 216x144 with 1 Axes>"
      ]
     },
     "metadata": {
      "needs_background": "light"
     },
     "output_type": "display_data"
    },
    {
     "data": {
      "image/png": "[encoded data removed]",
      "text/plain": [
       "<Figure size 216x144 with 1 Axes>"
      ]
     },
     "metadata": {
      "needs_background": "light"
     },
     "output_type": "display_data"
    },
    {
     "data": {
      "image/png": "[encoded data removed]",
      "text/plain": [
       "<Figure size 216x144 with 1 Axes>"
      ]
     },
     "metadata": {
      "needs_background": "light"
     },
     "output_type": "display_data"
    },
    {
     "data": {
      "image/png": "[encoded data removed]",
      "text/plain": [
       "<Figure size 216x144 with 1 Axes>"
      ]
     },
     "metadata": {
      "needs_background": "light"
     },
     "output_type": "display_data"
    },
    {
     "data": {
      "image/png": "[encoded data removed]",
      "text/plain": [
       "<Figure size 216x144 with 1 Axes>"
      ]
     },
     "metadata": {
      "needs_background": "light"
     },
     "output_type": "display_data"
    },
    {
     "data": {
      "image/png": "[encoded data removed]",
      "text/plain": [
       "<Figure size 216x144 with 1 Axes>"
      ]
     },
     "metadata": {
      "needs_background": "light"
     },
     "output_type": "display_data"
    },
    {
     "data": {
      "image/png": "[encoded data removed]",
      "text/plain": [
       "<Figure size 216x144 with 1 Axes>"
      ]
     },
     "metadata": {
      "needs_background": "light"
     },
     "output_type": "display_data"
    },
    {
     "data": {
      "image/png": "[encoded data removed]",
      "text/plain": [
       "<Figure size 216x144 with 1 Axes>"
      ]
     },
     "metadata": {
      "needs_background": "light"
     },
     "output_type": "display_data"
    },
    {
     "data": {
      "image/png": "[encoded data removed]",
      "text/plain": [
       "<Figure size 216x144 with 1 Axes>"
      ]
     },
     "metadata": {
      "needs_background": "light"
     },
     "output_type": "display_data"
    }
   ],
   "source": [
    "plot_variable_dist(df)"
   ]
  },
  {
   "cell_type": "markdown",
   "id": "f6d2b468-2c20-4f5d-90c8-1d9a2a02a34f",
   "metadata": {},
   "source": [
    "\n",
    "3. Write a function that takes in a dataframe of observations and attributes and returns a dataframe where each row is an atttribute name, the first column is the number of rows with missing values for that attribute, and the second column is percent of total rows that have missing values for that attribute. Run the function and document takeaways from this on how you want to handle missing values.\n"
   ]
  },
  {
   "cell_type": "code",
   "execution_count": 15,
   "id": "3b517efb-8ecd-4a25-8931-e19ecb923f33",
   "metadata": {},
   "outputs": [],
   "source": [
    "# I saw this on the afore mentioned kaggle site. This is the credit that author gave.\n",
    "# credit: https://www.kaggle.com/willkoehrsen/start-here-a-gentle-introduction. \n",
    "# One of the best notebooks on getting started with a ML problem.\n",
    "\n",
    "def missing_values_table(df):\n",
    "    '''\n",
    "    this function takes a dataframe as input and will output metrics for missing values, \n",
    "    and the percent of that column that has missing values\n",
    "    '''\n",
    "    # Total missing values\n",
    "    mis_val = df.isnull().sum()\n",
    "    \n",
    "    # Percentage of missing values\n",
    "    mis_val_percent = 100 * df.isnull().sum() / len(df)\n",
    "    \n",
    "    # Make a table with the results\n",
    "    mis_val_table = pd.concat([mis_val, mis_val_percent], axis=1)\n",
    "    \n",
    "    # Rename the columns\n",
    "    mis_val_table_ren_columns = mis_val_table.rename(\n",
    "    columns = {0 : 'Missing Values', 1 : '% of Total Values'})\n",
    "    \n",
    "    # Sort the table by percentage of missing descending\n",
    "    mis_val_table_ren_columns = mis_val_table_ren_columns[\n",
    "        mis_val_table_ren_columns.iloc[:,1] != 0].sort_values(\n",
    "    '% of Total Values', ascending=False).round(1)\n",
    "    \n",
    "    # Print some summary information\n",
    "    print (\"Your selected dataframe has \" + str(df.shape[1]) + \" columns.\\n\"      \n",
    "        \"There are \" + str(mis_val_table_ren_columns.shape[0]) +\n",
    "        \" columns that have missing values.\")\n",
    "        \n",
    "        # Return the dataframe with missing information\n",
    "    return mis_val_table_ren_columns"
   ]
  },
  {
   "cell_type": "code",
   "execution_count": 16,
   "id": "5a3d70dc-c9d6-456b-85d3-6b7a7eea6f48",
   "metadata": {},
   "outputs": [
    {
     "name": "stdout",
     "output_type": "stream",
     "text": [
      "Your selected dataframe has 46 columns.\n",
      "There are 31 columns that have missing values.\n"
     ]
    },
    {
     "data": {
      "text/html": [
       "<div>\n",
       "<style scoped>\n",
       "    .dataframe tbody tr th:only-of-type {\n",
       "        vertical-align: middle;\n",
       "    }\n",
       "\n",
       "    .dataframe tbody tr th {\n",
       "        vertical-align: top;\n",
       "    }\n",
       "\n",
       "    .dataframe thead th {\n",
       "        text-align: right;\n",
       "    }\n",
       "</style>\n",
       "<table border=\"1\" class=\"dataframe\">\n",
       "  <thead>\n",
       "    <tr style=\"text-align: right;\">\n",
       "      <th></th>\n",
       "      <th>Missing Values</th>\n",
       "      <th>% of Total Values</th>\n",
       "    </tr>\n",
       "  </thead>\n",
       "  <tbody>\n",
       "    <tr>\n",
       "      <th>buildingclasstypeid</th>\n",
       "      <td>77365</td>\n",
       "      <td>100.0</td>\n",
       "    </tr>\n",
       "    <tr>\n",
       "      <th>buildingclassdesc</th>\n",
       "      <td>77365</td>\n",
       "      <td>100.0</td>\n",
       "    </tr>\n",
       "    <tr>\n",
       "      <th>fireplaceflag</th>\n",
       "      <td>77208</td>\n",
       "      <td>99.8</td>\n",
       "    </tr>\n",
       "    <tr>\n",
       "      <th>architecturalstyletypeid</th>\n",
       "      <td>77174</td>\n",
       "      <td>99.7</td>\n",
       "    </tr>\n",
       "    <tr>\n",
       "      <th>architecturalstyledesc</th>\n",
       "      <td>77174</td>\n",
       "      <td>99.7</td>\n",
       "    </tr>\n",
       "    <tr>\n",
       "      <th>typeconstructiondesc</th>\n",
       "      <td>77158</td>\n",
       "      <td>99.7</td>\n",
       "    </tr>\n",
       "    <tr>\n",
       "      <th>typeconstructiontypeid</th>\n",
       "      <td>77158</td>\n",
       "      <td>99.7</td>\n",
       "    </tr>\n",
       "    <tr>\n",
       "      <th>decktypeid</th>\n",
       "      <td>76766</td>\n",
       "      <td>99.2</td>\n",
       "    </tr>\n",
       "    <tr>\n",
       "      <th>poolsizesum</th>\n",
       "      <td>76513</td>\n",
       "      <td>98.9</td>\n",
       "    </tr>\n",
       "    <tr>\n",
       "      <th>hashottuborspa</th>\n",
       "      <td>75842</td>\n",
       "      <td>98.0</td>\n",
       "    </tr>\n",
       "    <tr>\n",
       "      <th>fireplacecnt</th>\n",
       "      <td>69104</td>\n",
       "      <td>89.3</td>\n",
       "    </tr>\n",
       "    <tr>\n",
       "      <th>threequarterbathnbr</th>\n",
       "      <td>67284</td>\n",
       "      <td>87.0</td>\n",
       "    </tr>\n",
       "    <tr>\n",
       "      <th>poolcnt</th>\n",
       "      <td>61243</td>\n",
       "      <td>79.1</td>\n",
       "    </tr>\n",
       "    <tr>\n",
       "      <th>numberofstories</th>\n",
       "      <td>59820</td>\n",
       "      <td>77.3</td>\n",
       "    </tr>\n",
       "    <tr>\n",
       "      <th>airconditioningdesc</th>\n",
       "      <td>52427</td>\n",
       "      <td>67.8</td>\n",
       "    </tr>\n",
       "    <tr>\n",
       "      <th>airconditioningtypeid</th>\n",
       "      <td>52427</td>\n",
       "      <td>67.8</td>\n",
       "    </tr>\n",
       "    <tr>\n",
       "      <th>garagetotalsqft</th>\n",
       "      <td>51906</td>\n",
       "      <td>67.1</td>\n",
       "    </tr>\n",
       "    <tr>\n",
       "      <th>garagecarcnt</th>\n",
       "      <td>51906</td>\n",
       "      <td>67.1</td>\n",
       "    </tr>\n",
       "    <tr>\n",
       "      <th>regionidneighborhood</th>\n",
       "      <td>46490</td>\n",
       "      <td>60.1</td>\n",
       "    </tr>\n",
       "    <tr>\n",
       "      <th>buildingqualitytypeid</th>\n",
       "      <td>27709</td>\n",
       "      <td>35.8</td>\n",
       "    </tr>\n",
       "    <tr>\n",
       "      <th>propertyzoningdesc</th>\n",
       "      <td>27050</td>\n",
       "      <td>35.0</td>\n",
       "    </tr>\n",
       "    <tr>\n",
       "      <th>unitcnt</th>\n",
       "      <td>26818</td>\n",
       "      <td>34.7</td>\n",
       "    </tr>\n",
       "    <tr>\n",
       "      <th>lotsizesquarefeet</th>\n",
       "      <td>8239</td>\n",
       "      <td>10.6</td>\n",
       "    </tr>\n",
       "    <tr>\n",
       "      <th>regionidcity</th>\n",
       "      <td>1471</td>\n",
       "      <td>1.9</td>\n",
       "    </tr>\n",
       "    <tr>\n",
       "      <th>yearbuilt</th>\n",
       "      <td>263</td>\n",
       "      <td>0.3</td>\n",
       "    </tr>\n",
       "    <tr>\n",
       "      <th>censustractandblock</th>\n",
       "      <td>244</td>\n",
       "      <td>0.3</td>\n",
       "    </tr>\n",
       "    <tr>\n",
       "      <th>calculatedfinishedsquarefeet</th>\n",
       "      <td>196</td>\n",
       "      <td>0.3</td>\n",
       "    </tr>\n",
       "    <tr>\n",
       "      <th>structuretaxvaluedollarcnt</th>\n",
       "      <td>112</td>\n",
       "      <td>0.1</td>\n",
       "    </tr>\n",
       "    <tr>\n",
       "      <th>taxamount</th>\n",
       "      <td>5</td>\n",
       "      <td>0.0</td>\n",
       "    </tr>\n",
       "    <tr>\n",
       "      <th>landtaxvaluedollarcnt</th>\n",
       "      <td>2</td>\n",
       "      <td>0.0</td>\n",
       "    </tr>\n",
       "    <tr>\n",
       "      <th>taxvaluedollarcnt</th>\n",
       "      <td>1</td>\n",
       "      <td>0.0</td>\n",
       "    </tr>\n",
       "  </tbody>\n",
       "</table>\n",
       "</div>"
      ],
      "text/plain": [
       "                              Missing Values  % of Total Values\n",
       "buildingclasstypeid                    77365              100.0\n",
       "buildingclassdesc                      77365              100.0\n",
       "fireplaceflag                          77208               99.8\n",
       "architecturalstyletypeid               77174               99.7\n",
       "architecturalstyledesc                 77174               99.7\n",
       "typeconstructiondesc                   77158               99.7\n",
       "typeconstructiontypeid                 77158               99.7\n",
       "decktypeid                             76766               99.2\n",
       "poolsizesum                            76513               98.9\n",
       "hashottuborspa                         75842               98.0\n",
       "fireplacecnt                           69104               89.3\n",
       "threequarterbathnbr                    67284               87.0\n",
       "poolcnt                                61243               79.1\n",
       "numberofstories                        59820               77.3\n",
       "airconditioningdesc                    52427               67.8\n",
       "airconditioningtypeid                  52427               67.8\n",
       "garagetotalsqft                        51906               67.1\n",
       "garagecarcnt                           51906               67.1\n",
       "regionidneighborhood                   46490               60.1\n",
       "buildingqualitytypeid                  27709               35.8\n",
       "propertyzoningdesc                     27050               35.0\n",
       "unitcnt                                26818               34.7\n",
       "lotsizesquarefeet                       8239               10.6\n",
       "regionidcity                            1471                1.9\n",
       "yearbuilt                                263                0.3\n",
       "censustractandblock                      244                0.3\n",
       "calculatedfinishedsquarefeet             196                0.3\n",
       "structuretaxvaluedollarcnt               112                0.1\n",
       "taxamount                                  5                0.0\n",
       "landtaxvaluedollarcnt                      2                0.0\n",
       "taxvaluedollarcnt                          1                0.0"
      ]
     },
     "execution_count": 16,
     "metadata": {},
     "output_type": "execute_result"
    }
   ],
   "source": [
    "missing_values_table(df)"
   ]
  },
  {
   "cell_type": "markdown",
   "id": "27f2f4b8-0fb5-4a34-8e05-9b5133428db3",
   "metadata": {},
   "source": [
    "#### Takeaways\n",
    "- buildingclassdesc and buildingclasstypeid have too many missing, will drop\n",
    "- fireplaceflag seems to not have been used as much as fireplacecnt (drop fireplaceflag)\n",
    "- the architectural columns also don't have enough to go on, nothing to replace with\n",
    "- typeconstructiondesc and typeconstructiontypeid both don't have enough values (these are things like concrete, masonry) \n",
    "- decktypeid, poolsizesum, \n",
    "- numberofstories doesn't seem like something would be a driver of price \n",
    "\n",
    "Turned to 0s \n",
    "- hashottuborspa Nan's could be turned to 0s \n",
    "- fireplacecnt \n",
    "- garagecarcnt can have NaN's converted to 0s \n"
   ]
  },
  {
   "cell_type": "code",
   "execution_count": null,
   "id": "f2da40f1-35dd-44a1-8ef3-7e0e8787dd31",
   "metadata": {},
   "outputs": [],
   "source": []
  },
  {
   "cell_type": "markdown",
   "id": "68f31548-d1ea-4fd1-a069-066b944ebffd",
   "metadata": {},
   "source": [
    "<hr style=\"border-top: 10px groove #1277e1; margin-top: 1px; margin-bottom: 1px\"></hr>\n",
    "\n",
    "1. Write a function that takes in a dataframe and returns a dataframe with 3 columns: the number of columns missing, percent of columns missing, and number of rows with n columns missing. Run the function and document takeaways from this on how you want to handle missing values."
   ]
  },
  {
   "cell_type": "code",
   "execution_count": 83,
   "id": "d7e037eb-9f5f-43ff-8df4-522ca5bfb4e0",
   "metadata": {},
   "outputs": [],
   "source": [
    "# number of rows | missing 6 |out of 46 columns so that's x percent\n",
    "\n",
    "def nulls_by_row(df):\n",
    "    num_missing = df.isnull().sum(axis=1)\n",
    "    prcnt_miss = round(num_missing / df.shape[1] * 100, 2)\n",
    "    rows_missing = pd.DataFrame({'num_cols_missing': num_missing, 'percent_cols_missing': prcnt_miss})\\\n",
    "    .reset_index()\\\n",
    "    .groupby(['num_cols_missing', 'percent_cols_missing']).count()\\\n",
    "    .rename(index=str, columns={'index': 'num_rows'}).reset_index()\n",
    "    return rows_missing\n"
   ]
  },
  {
   "cell_type": "code",
   "execution_count": 84,
   "id": "fa849f5f-0a85-4ced-a04d-cdf56ba76b93",
   "metadata": {},
   "outputs": [
    {
     "data": {
      "text/html": [
       "<div>\n",
       "<style scoped>\n",
       "    .dataframe tbody tr th:only-of-type {\n",
       "        vertical-align: middle;\n",
       "    }\n",
       "\n",
       "    .dataframe tbody tr th {\n",
       "        vertical-align: top;\n",
       "    }\n",
       "\n",
       "    .dataframe thead th {\n",
       "        text-align: right;\n",
       "    }\n",
       "</style>\n",
       "<table border=\"1\" class=\"dataframe\">\n",
       "  <thead>\n",
       "    <tr style=\"text-align: right;\">\n",
       "      <th></th>\n",
       "      <th>num_cols_missing</th>\n",
       "      <th>percent_cols_missing</th>\n",
       "      <th>num_rows</th>\n",
       "    </tr>\n",
       "  </thead>\n",
       "  <tbody>\n",
       "    <tr>\n",
       "      <th>0</th>\n",
       "      <td>9</td>\n",
       "      <td>19.57</td>\n",
       "      <td>2</td>\n",
       "    </tr>\n",
       "    <tr>\n",
       "      <th>1</th>\n",
       "      <td>10</td>\n",
       "      <td>21.74</td>\n",
       "      <td>10</td>\n",
       "    </tr>\n",
       "    <tr>\n",
       "      <th>2</th>\n",
       "      <td>11</td>\n",
       "      <td>23.91</td>\n",
       "      <td>23</td>\n",
       "    </tr>\n",
       "    <tr>\n",
       "      <th>3</th>\n",
       "      <td>12</td>\n",
       "      <td>26.09</td>\n",
       "      <td>62</td>\n",
       "    </tr>\n",
       "    <tr>\n",
       "      <th>4</th>\n",
       "      <td>13</td>\n",
       "      <td>28.26</td>\n",
       "      <td>114</td>\n",
       "    </tr>\n",
       "    <tr>\n",
       "      <th>5</th>\n",
       "      <td>14</td>\n",
       "      <td>30.43</td>\n",
       "      <td>416</td>\n",
       "    </tr>\n",
       "    <tr>\n",
       "      <th>6</th>\n",
       "      <td>15</td>\n",
       "      <td>32.61</td>\n",
       "      <td>5577</td>\n",
       "    </tr>\n",
       "    <tr>\n",
       "      <th>7</th>\n",
       "      <td>16</td>\n",
       "      <td>34.78</td>\n",
       "      <td>10549</td>\n",
       "    </tr>\n",
       "    <tr>\n",
       "      <th>8</th>\n",
       "      <td>17</td>\n",
       "      <td>36.96</td>\n",
       "      <td>14385</td>\n",
       "    </tr>\n",
       "    <tr>\n",
       "      <th>9</th>\n",
       "      <td>18</td>\n",
       "      <td>39.13</td>\n",
       "      <td>21032</td>\n",
       "    </tr>\n",
       "    <tr>\n",
       "      <th>10</th>\n",
       "      <td>19</td>\n",
       "      <td>41.3</td>\n",
       "      <td>18022</td>\n",
       "    </tr>\n",
       "    <tr>\n",
       "      <th>11</th>\n",
       "      <td>20</td>\n",
       "      <td>43.48</td>\n",
       "      <td>4283</td>\n",
       "    </tr>\n",
       "    <tr>\n",
       "      <th>12</th>\n",
       "      <td>21</td>\n",
       "      <td>45.65</td>\n",
       "      <td>2110</td>\n",
       "    </tr>\n",
       "    <tr>\n",
       "      <th>13</th>\n",
       "      <td>22</td>\n",
       "      <td>47.83</td>\n",
       "      <td>438</td>\n",
       "    </tr>\n",
       "    <tr>\n",
       "      <th>14</th>\n",
       "      <td>23</td>\n",
       "      <td>50.0</td>\n",
       "      <td>211</td>\n",
       "    </tr>\n",
       "    <tr>\n",
       "      <th>15</th>\n",
       "      <td>24</td>\n",
       "      <td>52.17</td>\n",
       "      <td>84</td>\n",
       "    </tr>\n",
       "    <tr>\n",
       "      <th>16</th>\n",
       "      <td>25</td>\n",
       "      <td>54.35</td>\n",
       "      <td>50</td>\n",
       "    </tr>\n",
       "    <tr>\n",
       "      <th>17</th>\n",
       "      <td>26</td>\n",
       "      <td>56.52</td>\n",
       "      <td>9</td>\n",
       "    </tr>\n",
       "    <tr>\n",
       "      <th>18</th>\n",
       "      <td>27</td>\n",
       "      <td>58.7</td>\n",
       "      <td>2</td>\n",
       "    </tr>\n",
       "    <tr>\n",
       "      <th>19</th>\n",
       "      <td>28</td>\n",
       "      <td>60.87</td>\n",
       "      <td>1</td>\n",
       "    </tr>\n",
       "  </tbody>\n",
       "</table>\n",
       "</div>"
      ],
      "text/plain": [
       "   num_cols_missing percent_cols_missing  num_rows\n",
       "0                 9                19.57         2\n",
       "1                10                21.74        10\n",
       "2                11                23.91        23\n",
       "3                12                26.09        62\n",
       "4                13                28.26       114\n",
       "5                14                30.43       416\n",
       "6                15                32.61      5577\n",
       "7                16                34.78     10549\n",
       "8                17                36.96     14385\n",
       "9                18                39.13     21032\n",
       "10               19                 41.3     18022\n",
       "11               20                43.48      4283\n",
       "12               21                45.65      2110\n",
       "13               22                47.83       438\n",
       "14               23                 50.0       211\n",
       "15               24                52.17        84\n",
       "16               25                54.35        50\n",
       "17               26                56.52         9\n",
       "18               27                 58.7         2\n",
       "19               28                60.87         1"
      ]
     },
     "execution_count": 84,
     "metadata": {},
     "output_type": "execute_result"
    }
   ],
   "source": [
    "nulls_by_row(df)"
   ]
  },
  {
   "cell_type": "markdown",
   "id": "45e74120-5688-487b-ad1b-b60c63be0248",
   "metadata": {},
   "source": [
    "<hr style=\"border-top: 10px groove #1277e1; margin-top: 1px; margin-bottom: 1px\"></hr>\n",
    "\n",
    "#### Prepare\n",
    "1. Remove any properties that are likely to be something other than single unit properties. (e.g. no duplexes, no land/lot, ...). There are multiple ways to estimate that a property is a single unit, and there is not a single \"right\" answer. But for this exercise, do not purely filter by unitcnt as we did previously. Add some new logic that will reduce the number of properties that are falsely removed. You might want to use # bedrooms, square feet, unit type or the like to then identify those with unitcnt not defined.\n",
    "    - looked up definitions, included single family residential, condo, mobile home, townhouse \n"
   ]
  },
  {
   "cell_type": "code",
   "execution_count": 91,
   "id": "92c8f4ef-cca8-4d23-bbb1-cf282e3f2280",
   "metadata": {},
   "outputs": [
    {
     "data": {
      "text/html": [
       "<div>\n",
       "<style scoped>\n",
       "    .dataframe tbody tr th:only-of-type {\n",
       "        vertical-align: middle;\n",
       "    }\n",
       "\n",
       "    .dataframe tbody tr th {\n",
       "        vertical-align: top;\n",
       "    }\n",
       "\n",
       "    .dataframe thead th {\n",
       "        text-align: right;\n",
       "    }\n",
       "</style>\n",
       "<table border=\"1\" class=\"dataframe\">\n",
       "  <thead>\n",
       "    <tr style=\"text-align: right;\">\n",
       "      <th></th>\n",
       "      <th>propertylandusedesc</th>\n",
       "    </tr>\n",
       "  </thead>\n",
       "  <tbody>\n",
       "    <tr>\n",
       "      <th>Single Family Residential</th>\n",
       "      <td>52319</td>\n",
       "    </tr>\n",
       "    <tr>\n",
       "      <th>Condominium</th>\n",
       "      <td>19294</td>\n",
       "    </tr>\n",
       "    <tr>\n",
       "      <th>Duplex (2 Units, Any Combination)</th>\n",
       "      <td>2009</td>\n",
       "    </tr>\n",
       "    <tr>\n",
       "      <th>Planned Unit Development</th>\n",
       "      <td>1944</td>\n",
       "    </tr>\n",
       "    <tr>\n",
       "      <th>Quadruplex (4 Units, Any Combination)</th>\n",
       "      <td>727</td>\n",
       "    </tr>\n",
       "    <tr>\n",
       "      <th>Triplex (3 Units, Any Combination)</th>\n",
       "      <td>535</td>\n",
       "    </tr>\n",
       "    <tr>\n",
       "      <th>Cluster Home</th>\n",
       "      <td>333</td>\n",
       "    </tr>\n",
       "    <tr>\n",
       "      <th>Mobile Home</th>\n",
       "      <td>74</td>\n",
       "    </tr>\n",
       "    <tr>\n",
       "      <th>Manufactured, Modular, Prefabricated Homes</th>\n",
       "      <td>58</td>\n",
       "    </tr>\n",
       "    <tr>\n",
       "      <th>Residential General</th>\n",
       "      <td>37</td>\n",
       "    </tr>\n",
       "    <tr>\n",
       "      <th>Cooperative</th>\n",
       "      <td>29</td>\n",
       "    </tr>\n",
       "    <tr>\n",
       "      <th>Commercial/Office/Residential Mixed Used</th>\n",
       "      <td>15</td>\n",
       "    </tr>\n",
       "    <tr>\n",
       "      <th>Townhouse</th>\n",
       "      <td>6</td>\n",
       "    </tr>\n",
       "  </tbody>\n",
       "</table>\n",
       "</div>"
      ],
      "text/plain": [
       "                                            propertylandusedesc\n",
       "Single Family Residential                                 52319\n",
       "Condominium                                               19294\n",
       "Duplex (2 Units, Any Combination)                          2009\n",
       "Planned Unit Development                                   1944\n",
       "Quadruplex (4 Units, Any Combination)                       727\n",
       "Triplex (3 Units, Any Combination)                          535\n",
       "Cluster Home                                                333\n",
       "Mobile Home                                                  74\n",
       "Manufactured, Modular, Prefabricated Homes                   58\n",
       "Residential General                                          37\n",
       "Cooperative                                                  29\n",
       "Commercial/Office/Residential Mixed Used                     15\n",
       "Townhouse                                                     6"
      ]
     },
     "execution_count": 91,
     "metadata": {},
     "output_type": "execute_result"
    }
   ],
   "source": [
    "df.propertylandusedesc.value_counts(dropna = False).to_frame()"
   ]
  },
  {
   "cell_type": "code",
   "execution_count": 137,
   "id": "f8fc10c4-b3ad-4550-ab8b-55c69ed32146",
   "metadata": {},
   "outputs": [
    {
     "data": {
      "text/plain": [
       "Single Family Residential                     52319\n",
       "Condominium                                   19294\n",
       "Mobile Home                                      74\n",
       "Manufactured, Modular, Prefabricated Homes       58\n",
       "Townhouse                                         6\n",
       "Name: propertylandusedesc, dtype: int64"
      ]
     },
     "execution_count": 137,
     "metadata": {},
     "output_type": "execute_result"
    }
   ],
   "source": [
    "# keep single family residential, condomininum, manufactured modualr prefabricated homes, townhouse \n",
    "# drop if unit count 2 or higher \n",
    "single_homes = ['Single Family Residential', 'Condominium', 'Townhouse', 'Manufactured, Modular, Prefabricated Homes', 'Mobile Home']\n",
    "df[df['propertylandusedesc'].isin(single_homes)].propertylandusedesc.value_counts()"
   ]
  },
  {
   "cell_type": "code",
   "execution_count": 105,
   "id": "4341ea98-f376-4944-a8fa-91a5e33cee2f",
   "metadata": {},
   "outputs": [
    {
     "data": {
      "text/plain": [
       "1.0    45233\n",
       "NaN    26408\n",
       "2.0       32\n",
       "3.0        3\n",
       "6.0        1\n",
       "Name: unitcnt, dtype: int64"
      ]
     },
     "execution_count": 105,
     "metadata": {},
     "output_type": "execute_result"
    }
   ],
   "source": [
    "# end result will be the first two groups together\n",
    "df[df['propertylandusedesc'].isin(single_homes)].unitcnt.value_counts(dropna=False)"
   ]
  },
  {
   "cell_type": "code",
   "execution_count": 110,
   "id": "37e9bbee-4546-4794-9560-c8f85ba87423",
   "metadata": {},
   "outputs": [
    {
     "data": {
      "text/plain": [
       "Single Family Residential                   33733\n",
       "Condominium                                 11494\n",
       "Planned Unit Development                     1937\n",
       "Mobile Home                                    53\n",
       "Cooperative                                    29\n",
       "Duplex (2 Units, Any Combination)              20\n",
       "Residential General                            10\n",
       "Commercial/Office/Residential Mixed Used        8\n",
       "Townhouse                                       6\n",
       "Triplex (3 Units, Any Combination)              2\n",
       "Name: propertylandusedesc, dtype: int64"
      ]
     },
     "execution_count": 110,
     "metadata": {},
     "output_type": "execute_result"
    }
   ],
   "source": [
    "df[df['unitcnt'] == 1].propertylandusedesc.value_counts(dropna=False)"
   ]
  },
  {
   "cell_type": "code",
   "execution_count": 111,
   "id": "a6678894-12da-467d-998c-040c8be482db",
   "metadata": {},
   "outputs": [
    {
     "name": "stdout",
     "output_type": "stream",
     "text": [
      "Your selected dataframe has 46 columns.\n",
      "There are 31 columns that have missing values.\n"
     ]
    }
   ],
   "source": [
    "missing_vals = missing_values_table(df)"
   ]
  },
  {
   "cell_type": "code",
   "execution_count": 147,
   "id": "6c937ed2-6a90-4f84-b80b-e13e14cadddf",
   "metadata": {},
   "outputs": [
    {
     "name": "stdout",
     "output_type": "stream",
     "text": [
      "shape before (77380, 46)\n",
      "shape after (71751, 46)\n"
     ]
    }
   ],
   "source": [
    "# goal: keep all houses that are in the single_homes list i made up and that have a unit count of 1 or nan\n",
    "print(f'shape before {df.shape}')\n",
    "after_shape = df[df['propertylandusedesc'].isin(single_homes)].shape\n",
    "print(f'shape after {after_shape}')"
   ]
  },
  {
   "cell_type": "code",
   "execution_count": 148,
   "id": "7157b870-a220-4199-a2aa-30b9be875ed8",
   "metadata": {},
   "outputs": [],
   "source": [
    "new_df = df[df['propertylandusedesc'].isin(single_homes)]"
   ]
  },
  {
   "cell_type": "code",
   "execution_count": 182,
   "id": "3ec1bd9e-0330-47ec-8dca-07c4d008d22e",
   "metadata": {},
   "outputs": [],
   "source": [
    "# create mask if unit count is 1 or NaN\n",
    "unitcnt_mask = (new_df['unitcnt'] == 1) | (new_df['unitcnt'].isnull())"
   ]
  },
  {
   "cell_type": "code",
   "execution_count": 183,
   "id": "e8d5c119-8378-49b9-a4dd-c0631ada1a1b",
   "metadata": {},
   "outputs": [
    {
     "data": {
      "text/plain": [
       "(71715, 46)"
      ]
     },
     "execution_count": 183,
     "metadata": {},
     "output_type": "execute_result"
    }
   ],
   "source": [
    "new_df[unitcnt_mask].shape"
   ]
  },
  {
   "cell_type": "code",
   "execution_count": 187,
   "id": "09c8a922-9c39-4159-a924-c451bd572212",
   "metadata": {},
   "outputs": [],
   "source": [
    "# put in wrangle function\n",
    "def single_homes(df):\n",
    "    '''\n",
    "    Function takes in zillow dataframe and outputs dataframe with only data for single unit homes.\n",
    "    Single unit home defined as any of the following \n",
    "    'Single Family Residential', 'Condominium', 'Townhouse', 'Manufactured, Modular, Prefabricated Homes', 'Mobile Home'\n",
    "    Home must also have unit count of 1 or NaN\n",
    "    '''\n",
    "    # define single home descriptions\n",
    "    single_homes = ['Single Family Residential', 'Condominium', 'Townhouse', 'Manufactured, Modular, Prefabricated Homes', 'Mobile Home']\n",
    "    \n",
    "    # If the property land use description is the in the single homes list keep it\n",
    "    df = df[df['propertylandusedesc'].isin(single_homes)]\n",
    "    \n",
    "    # create mask if unit count is 1 or NaN\n",
    "    unitcnt_mask = (df['unitcnt'] == 1) | (df['unitcnt'].isnull())\n",
    "    \n",
    "    # apply mask to dataframe\n",
    "    df = df[unitcnt_mask]\n",
    "    \n",
    "    return df\n",
    "    "
   ]
  },
  {
   "cell_type": "code",
   "execution_count": 314,
   "id": "ce3874e5-79f2-4283-9084-2739e15f02bb",
   "metadata": {},
   "outputs": [],
   "source": [
    "new_df = single_homes(df)"
   ]
  },
  {
   "cell_type": "code",
   "execution_count": 219,
   "id": "d6668eb6-9867-43c5-8e7e-43a9654cb89a",
   "metadata": {},
   "outputs": [
    {
     "data": {
      "text/plain": [
       "(71715, 46)"
      ]
     },
     "execution_count": 219,
     "metadata": {},
     "output_type": "execute_result"
    }
   ],
   "source": [
    "# should have shape of 71715\n",
    "new_df.shape"
   ]
  },
  {
   "cell_type": "code",
   "execution_count": 190,
   "id": "1a1c353e-a0e1-4c0c-83d0-6aae6714899f",
   "metadata": {},
   "outputs": [
    {
     "data": {
      "text/plain": [
       "1.0    45286\n",
       "NaN    26429\n",
       "Name: unitcnt, dtype: int64"
      ]
     },
     "execution_count": 190,
     "metadata": {},
     "output_type": "execute_result"
    }
   ],
   "source": [
    "new_df.unitcnt.value_counts(dropna=False)"
   ]
  },
  {
   "cell_type": "code",
   "execution_count": 191,
   "id": "01dc3cc6-f6d5-48ed-bc36-51470afe38e1",
   "metadata": {},
   "outputs": [
    {
     "name": "stdout",
     "output_type": "stream",
     "text": [
      "Your selected dataframe has 46 columns.\n",
      "There are 31 columns that have missing values.\n"
     ]
    },
    {
     "data": {
      "text/html": [
       "<div>\n",
       "<style scoped>\n",
       "    .dataframe tbody tr th:only-of-type {\n",
       "        vertical-align: middle;\n",
       "    }\n",
       "\n",
       "    .dataframe tbody tr th {\n",
       "        vertical-align: top;\n",
       "    }\n",
       "\n",
       "    .dataframe thead th {\n",
       "        text-align: right;\n",
       "    }\n",
       "</style>\n",
       "<table border=\"1\" class=\"dataframe\">\n",
       "  <thead>\n",
       "    <tr style=\"text-align: right;\">\n",
       "      <th></th>\n",
       "      <th>Missing Values</th>\n",
       "      <th>% of Total Values</th>\n",
       "    </tr>\n",
       "  </thead>\n",
       "  <tbody>\n",
       "    <tr>\n",
       "      <th>buildingclasstypeid</th>\n",
       "      <td>71715</td>\n",
       "      <td>100.0</td>\n",
       "    </tr>\n",
       "    <tr>\n",
       "      <th>buildingclassdesc</th>\n",
       "      <td>71715</td>\n",
       "      <td>100.0</td>\n",
       "    </tr>\n",
       "    <tr>\n",
       "      <th>fireplaceflag</th>\n",
       "      <td>71543</td>\n",
       "      <td>99.8</td>\n",
       "    </tr>\n",
       "    <tr>\n",
       "      <th>architecturalstyletypeid</th>\n",
       "      <td>71509</td>\n",
       "      <td>99.7</td>\n",
       "    </tr>\n",
       "    <tr>\n",
       "      <th>architecturalstyledesc</th>\n",
       "      <td>71509</td>\n",
       "      <td>99.7</td>\n",
       "    </tr>\n",
       "    <tr>\n",
       "      <th>typeconstructiondesc</th>\n",
       "      <td>71493</td>\n",
       "      <td>99.7</td>\n",
       "    </tr>\n",
       "    <tr>\n",
       "      <th>typeconstructiontypeid</th>\n",
       "      <td>71493</td>\n",
       "      <td>99.7</td>\n",
       "    </tr>\n",
       "    <tr>\n",
       "      <th>decktypeid</th>\n",
       "      <td>71125</td>\n",
       "      <td>99.2</td>\n",
       "    </tr>\n",
       "    <tr>\n",
       "      <th>poolsizesum</th>\n",
       "      <td>70848</td>\n",
       "      <td>98.8</td>\n",
       "    </tr>\n",
       "    <tr>\n",
       "      <th>hashottuborspa</th>\n",
       "      <td>70178</td>\n",
       "      <td>97.9</td>\n",
       "    </tr>\n",
       "    <tr>\n",
       "      <th>fireplacecnt</th>\n",
       "      <td>63626</td>\n",
       "      <td>88.7</td>\n",
       "    </tr>\n",
       "    <tr>\n",
       "      <th>threequarterbathnbr</th>\n",
       "      <td>61727</td>\n",
       "      <td>86.1</td>\n",
       "    </tr>\n",
       "    <tr>\n",
       "      <th>poolcnt</th>\n",
       "      <td>56000</td>\n",
       "      <td>78.1</td>\n",
       "    </tr>\n",
       "    <tr>\n",
       "      <th>numberofstories</th>\n",
       "      <td>54707</td>\n",
       "      <td>76.3</td>\n",
       "    </tr>\n",
       "    <tr>\n",
       "      <th>airconditioningdesc</th>\n",
       "      <td>48701</td>\n",
       "      <td>67.9</td>\n",
       "    </tr>\n",
       "    <tr>\n",
       "      <th>airconditioningtypeid</th>\n",
       "      <td>48701</td>\n",
       "      <td>67.9</td>\n",
       "    </tr>\n",
       "    <tr>\n",
       "      <th>garagetotalsqft</th>\n",
       "      <td>46755</td>\n",
       "      <td>65.2</td>\n",
       "    </tr>\n",
       "    <tr>\n",
       "      <th>garagecarcnt</th>\n",
       "      <td>46755</td>\n",
       "      <td>65.2</td>\n",
       "    </tr>\n",
       "    <tr>\n",
       "      <th>regionidneighborhood</th>\n",
       "      <td>43560</td>\n",
       "      <td>60.7</td>\n",
       "    </tr>\n",
       "    <tr>\n",
       "      <th>buildingqualitytypeid</th>\n",
       "      <td>26796</td>\n",
       "      <td>37.4</td>\n",
       "    </tr>\n",
       "    <tr>\n",
       "      <th>unitcnt</th>\n",
       "      <td>26429</td>\n",
       "      <td>36.9</td>\n",
       "    </tr>\n",
       "    <tr>\n",
       "      <th>propertyzoningdesc</th>\n",
       "      <td>26382</td>\n",
       "      <td>36.8</td>\n",
       "    </tr>\n",
       "    <tr>\n",
       "      <th>lotsizesquarefeet</th>\n",
       "      <td>8111</td>\n",
       "      <td>11.3</td>\n",
       "    </tr>\n",
       "    <tr>\n",
       "      <th>regionidcity</th>\n",
       "      <td>1335</td>\n",
       "      <td>1.9</td>\n",
       "    </tr>\n",
       "    <tr>\n",
       "      <th>censustractandblock</th>\n",
       "      <td>222</td>\n",
       "      <td>0.3</td>\n",
       "    </tr>\n",
       "    <tr>\n",
       "      <th>yearbuilt</th>\n",
       "      <td>195</td>\n",
       "      <td>0.3</td>\n",
       "    </tr>\n",
       "    <tr>\n",
       "      <th>calculatedfinishedsquarefeet</th>\n",
       "      <td>162</td>\n",
       "      <td>0.2</td>\n",
       "    </tr>\n",
       "    <tr>\n",
       "      <th>structuretaxvaluedollarcnt</th>\n",
       "      <td>98</td>\n",
       "      <td>0.1</td>\n",
       "    </tr>\n",
       "    <tr>\n",
       "      <th>taxamount</th>\n",
       "      <td>5</td>\n",
       "      <td>0.0</td>\n",
       "    </tr>\n",
       "    <tr>\n",
       "      <th>landtaxvaluedollarcnt</th>\n",
       "      <td>2</td>\n",
       "      <td>0.0</td>\n",
       "    </tr>\n",
       "    <tr>\n",
       "      <th>taxvaluedollarcnt</th>\n",
       "      <td>1</td>\n",
       "      <td>0.0</td>\n",
       "    </tr>\n",
       "  </tbody>\n",
       "</table>\n",
       "</div>"
      ],
      "text/plain": [
       "                              Missing Values  % of Total Values\n",
       "buildingclasstypeid                    71715              100.0\n",
       "buildingclassdesc                      71715              100.0\n",
       "fireplaceflag                          71543               99.8\n",
       "architecturalstyletypeid               71509               99.7\n",
       "architecturalstyledesc                 71509               99.7\n",
       "typeconstructiondesc                   71493               99.7\n",
       "typeconstructiontypeid                 71493               99.7\n",
       "decktypeid                             71125               99.2\n",
       "poolsizesum                            70848               98.8\n",
       "hashottuborspa                         70178               97.9\n",
       "fireplacecnt                           63626               88.7\n",
       "threequarterbathnbr                    61727               86.1\n",
       "poolcnt                                56000               78.1\n",
       "numberofstories                        54707               76.3\n",
       "airconditioningdesc                    48701               67.9\n",
       "airconditioningtypeid                  48701               67.9\n",
       "garagetotalsqft                        46755               65.2\n",
       "garagecarcnt                           46755               65.2\n",
       "regionidneighborhood                   43560               60.7\n",
       "buildingqualitytypeid                  26796               37.4\n",
       "unitcnt                                26429               36.9\n",
       "propertyzoningdesc                     26382               36.8\n",
       "lotsizesquarefeet                       8111               11.3\n",
       "regionidcity                            1335                1.9\n",
       "censustractandblock                      222                0.3\n",
       "yearbuilt                                195                0.3\n",
       "calculatedfinishedsquarefeet             162                0.2\n",
       "structuretaxvaluedollarcnt                98                0.1\n",
       "taxamount                                  5                0.0\n",
       "landtaxvaluedollarcnt                      2                0.0\n",
       "taxvaluedollarcnt                          1                0.0"
      ]
     },
     "execution_count": 191,
     "metadata": {},
     "output_type": "execute_result"
    }
   ],
   "source": [
    "missing_values_table(new_df)"
   ]
  },
  {
   "cell_type": "code",
   "execution_count": 192,
   "id": "d220cb60-93e4-4ade-b0a3-fe111e098b2d",
   "metadata": {},
   "outputs": [
    {
     "data": {
      "text/plain": [
       "NaN     46755\n",
       "2.0     18389\n",
       "1.0      5536\n",
       "3.0       632\n",
       "4.0       255\n",
       "0.0        75\n",
       "5.0        45\n",
       "6.0        14\n",
       "7.0         4\n",
       "10.0        3\n",
       "8.0         2\n",
       "9.0         2\n",
       "14.0        1\n",
       "11.0        1\n",
       "13.0        1\n",
       "Name: garagecarcnt, dtype: int64"
      ]
     },
     "execution_count": 192,
     "metadata": {},
     "output_type": "execute_result"
    }
   ],
   "source": [
    "# propbably drop this because a better value of the place is whether or not they have parking\n",
    "# not a data point in this\n",
    "new_df.garagecarcnt.value_counts(dropna=False)"
   ]
  },
  {
   "cell_type": "code",
   "execution_count": 195,
   "id": "3aa9a4bb-a91b-48ba-9cc6-61220db496d3",
   "metadata": {},
   "outputs": [],
   "source": [
    "def pool_party(df):\n",
    "    '''\n",
    "    This function fixes the NaNs in the pool column and fills them with 0s.\n",
    "    Essentially turning this into a has_pool column\n",
    "    '''\n",
    "    df['poolcnt'] = df.poolcnt.fillna(value=0)\n",
    "\n",
    "    return df"
   ]
  },
  {
   "cell_type": "code",
   "execution_count": 315,
   "id": "eb909e9e-aa85-45de-aaf7-ac4481495577",
   "metadata": {},
   "outputs": [],
   "source": [
    "new_df = pool_party(new_df)"
   ]
  },
  {
   "cell_type": "code",
   "execution_count": 225,
   "id": "52bfbca4-90d5-4cec-aa16-9a2f577c4bcf",
   "metadata": {},
   "outputs": [],
   "source": [
    "def unitcnt_filler(df):\n",
    "    '''\n",
    "    Function fills in nans in the unit count because we're only dealing with single family homes now\n",
    "    '''\n",
    "    df['unitcnt'] = df.unitcnt.fillna(value=1)\n",
    "    \n",
    "    return df"
   ]
  },
  {
   "cell_type": "code",
   "execution_count": 316,
   "id": "52fb22c7-b3c9-4ab1-b565-a3018e16cc6a",
   "metadata": {},
   "outputs": [],
   "source": [
    "new_df = unitcnt_filler(new_df)"
   ]
  },
  {
   "cell_type": "markdown",
   "id": "fbb14b5d-bd93-45b1-99a0-2eef980d005a",
   "metadata": {},
   "source": [
    "2. Create a function that will drop rows or columns based on the percent of values that are missing: handle_missing_values(df, prop_required_column, prop_required_row).\n",
    "\n",
    "- The input:\n",
    "    - A dataframe\n",
    "    - A number between 0 and 1 that represents the proportion, for each column, of rows with non-missing values required to keep the column. i.e. if prop_required_column = .6, then you are requiring a column to have at least 60% of values not-NA (no more than 40% missing).\n",
    "    - A number between 0 and 1 that represents the proportion, for each row, of columns/variables with non-missing values required to keep the row. For example, if prop_required_row = .75, then you are requiring a row to have at least 75% of variables with a non-missing value (no more that 25% missing).\n",
    "- The output:\n",
    "    - The dataframe with the columns and rows dropped as indicated. Be sure to drop the columns prior to the rows in your function.\n",
    "- hint:\n",
    "    - Look up the dropna documentation.\n",
    "    - You will want to compute a threshold from your input values (prop_required) and total number of rows or columns.\n",
    "    - Make use of inplace, i.e. inplace=True/False.\n"
   ]
  },
  {
   "cell_type": "code",
   "execution_count": 307,
   "id": "094f46e8-4f33-408d-8edc-5aabdf642566",
   "metadata": {},
   "outputs": [
    {
     "data": {
      "text/html": [
       "<div>\n",
       "<style scoped>\n",
       "    .dataframe tbody tr th:only-of-type {\n",
       "        vertical-align: middle;\n",
       "    }\n",
       "\n",
       "    .dataframe tbody tr th {\n",
       "        vertical-align: top;\n",
       "    }\n",
       "\n",
       "    .dataframe thead th {\n",
       "        text-align: right;\n",
       "    }\n",
       "</style>\n",
       "<table border=\"1\" class=\"dataframe\">\n",
       "  <thead>\n",
       "    <tr style=\"text-align: right;\">\n",
       "      <th></th>\n",
       "      <th>num_cols_missing</th>\n",
       "      <th>percent_cols_missing</th>\n",
       "      <th>num_rows</th>\n",
       "    </tr>\n",
       "  </thead>\n",
       "  <tbody>\n",
       "    <tr>\n",
       "      <th>0</th>\n",
       "      <td>8</td>\n",
       "      <td>17.39</td>\n",
       "      <td>2</td>\n",
       "    </tr>\n",
       "    <tr>\n",
       "      <th>1</th>\n",
       "      <td>9</td>\n",
       "      <td>19.57</td>\n",
       "      <td>12</td>\n",
       "    </tr>\n",
       "    <tr>\n",
       "      <th>2</th>\n",
       "      <td>10</td>\n",
       "      <td>21.74</td>\n",
       "      <td>30</td>\n",
       "    </tr>\n",
       "    <tr>\n",
       "      <th>3</th>\n",
       "      <td>11</td>\n",
       "      <td>23.91</td>\n",
       "      <td>71</td>\n",
       "    </tr>\n",
       "    <tr>\n",
       "      <th>4</th>\n",
       "      <td>12</td>\n",
       "      <td>26.09</td>\n",
       "      <td>177</td>\n",
       "    </tr>\n",
       "    <tr>\n",
       "      <th>5</th>\n",
       "      <td>13</td>\n",
       "      <td>28.26</td>\n",
       "      <td>634</td>\n",
       "    </tr>\n",
       "    <tr>\n",
       "      <th>6</th>\n",
       "      <td>14</td>\n",
       "      <td>30.43</td>\n",
       "      <td>1642</td>\n",
       "    </tr>\n",
       "    <tr>\n",
       "      <th>7</th>\n",
       "      <td>15</td>\n",
       "      <td>32.61</td>\n",
       "      <td>13453</td>\n",
       "    </tr>\n",
       "    <tr>\n",
       "      <th>8</th>\n",
       "      <td>16</td>\n",
       "      <td>34.78</td>\n",
       "      <td>16021</td>\n",
       "    </tr>\n",
       "    <tr>\n",
       "      <th>9</th>\n",
       "      <td>17</td>\n",
       "      <td>36.96</td>\n",
       "      <td>20290</td>\n",
       "    </tr>\n",
       "    <tr>\n",
       "      <th>10</th>\n",
       "      <td>18</td>\n",
       "      <td>39.13</td>\n",
       "      <td>15969</td>\n",
       "    </tr>\n",
       "    <tr>\n",
       "      <th>11</th>\n",
       "      <td>19</td>\n",
       "      <td>41.3</td>\n",
       "      <td>2359</td>\n",
       "    </tr>\n",
       "    <tr>\n",
       "      <th>12</th>\n",
       "      <td>20</td>\n",
       "      <td>43.48</td>\n",
       "      <td>407</td>\n",
       "    </tr>\n",
       "    <tr>\n",
       "      <th>13</th>\n",
       "      <td>21</td>\n",
       "      <td>45.65</td>\n",
       "      <td>167</td>\n",
       "    </tr>\n",
       "    <tr>\n",
       "      <th>14</th>\n",
       "      <td>22</td>\n",
       "      <td>47.83</td>\n",
       "      <td>4</td>\n",
       "    </tr>\n",
       "  </tbody>\n",
       "</table>\n",
       "</div>"
      ],
      "text/plain": [
       "   num_cols_missing percent_cols_missing  num_rows\n",
       "0                 8                17.39         2\n",
       "1                 9                19.57        12\n",
       "2                10                21.74        30\n",
       "3                11                23.91        71\n",
       "4                12                26.09       177\n",
       "5                13                28.26       634\n",
       "6                14                30.43      1642\n",
       "7                15                32.61     13453\n",
       "8                16                34.78     16021\n",
       "9                17                36.96     20290\n",
       "10               18                39.13     15969\n",
       "11               19                 41.3      2359\n",
       "12               20                43.48       407\n",
       "13               21                45.65       167\n",
       "14               22                47.83         4"
      ]
     },
     "execution_count": 307,
     "metadata": {},
     "output_type": "execute_result"
    }
   ],
   "source": [
    "nulls_by_row(new_df)"
   ]
  },
  {
   "cell_type": "code",
   "execution_count": 213,
   "id": "888c0972-590f-46ef-9eae-c11d105d7d72",
   "metadata": {},
   "outputs": [
    {
     "data": {
      "text/plain": [
       "34"
      ]
     },
     "execution_count": 213,
     "metadata": {},
     "output_type": "execute_result"
    }
   ],
   "source": [
    "int(round((new_df.shape[1] *.75)))"
   ]
  },
  {
   "cell_type": "code",
   "execution_count": 317,
   "id": "e00279c2-d177-446d-b353-1b55a33d98d8",
   "metadata": {},
   "outputs": [],
   "source": [
    "# put in wrangle\n",
    "# threshold originally at 50\n",
    "# raised to 65 took care of the need for the function below \n",
    "def drop_missing(df, min_col_percent= 0.75, min_row_percent = 0.75):\n",
    "    '''\n",
    "    This columns takes in a dataframe and outputs one with nulls dropped\n",
    "    The minimum col percent is how many null values you would like to have in your columns for them to stay\n",
    "    min_row_percent will be how many values must be not null in order to keep that row\n",
    "    '''\n",
    "    # calculate columns threshold (any columsn that have more nulls than this, dropped)\n",
    "    col_thresh = int(round(min_col_percent*df.shape[0]))\n",
    "    \n",
    "    # drop coulmns \n",
    "    df = df.dropna(axis=1, thresh=col_thresh)\n",
    "    \n",
    "    # calculate row threshold \n",
    "    row_thresh = int(round(min_row_percent * df.shape[1]))\n",
    "    \n",
    "    # drop rows\n",
    "    \n",
    "    df = df.dropna(axis=0, thresh=row_thresh)\n",
    "    \n",
    "    return df"
   ]
  },
  {
   "cell_type": "code",
   "execution_count": 318,
   "id": "3dc1630b-60c6-4725-a3d8-c06d99039ae6",
   "metadata": {},
   "outputs": [],
   "source": [
    "new_df = drop_missing(new_df)"
   ]
  },
  {
   "cell_type": "code",
   "execution_count": 319,
   "id": "e8b262b2-a4f2-4e73-ac20-4900f2f39afd",
   "metadata": {},
   "outputs": [
    {
     "name": "stdout",
     "output_type": "stream",
     "text": [
      "Your selected dataframe has 26 columns.\n",
      "There are 2 columns that have missing values.\n"
     ]
    },
    {
     "data": {
      "text/html": [
       "<div>\n",
       "<style scoped>\n",
       "    .dataframe tbody tr th:only-of-type {\n",
       "        vertical-align: middle;\n",
       "    }\n",
       "\n",
       "    .dataframe tbody tr th {\n",
       "        vertical-align: top;\n",
       "    }\n",
       "\n",
       "    .dataframe thead th {\n",
       "        text-align: right;\n",
       "    }\n",
       "</style>\n",
       "<table border=\"1\" class=\"dataframe\">\n",
       "  <thead>\n",
       "    <tr style=\"text-align: right;\">\n",
       "      <th></th>\n",
       "      <th>Missing Values</th>\n",
       "      <th>% of Total Values</th>\n",
       "    </tr>\n",
       "  </thead>\n",
       "  <tbody>\n",
       "    <tr>\n",
       "      <th>lotsizesquarefeet</th>\n",
       "      <td>7888</td>\n",
       "      <td>11.1</td>\n",
       "    </tr>\n",
       "    <tr>\n",
       "      <th>regionidcity</th>\n",
       "      <td>1287</td>\n",
       "      <td>1.8</td>\n",
       "    </tr>\n",
       "  </tbody>\n",
       "</table>\n",
       "</div>"
      ],
      "text/plain": [
       "                   Missing Values  % of Total Values\n",
       "lotsizesquarefeet            7888               11.1\n",
       "regionidcity                 1287                1.8"
      ]
     },
     "execution_count": 319,
     "metadata": {},
     "output_type": "execute_result"
    }
   ],
   "source": [
    "missing_values_table(new_df)"
   ]
  },
  {
   "cell_type": "code",
   "execution_count": 284,
   "id": "24f1c5de-a040-4419-8803-04b89dd9b7dc",
   "metadata": {},
   "outputs": [
    {
     "data": {
      "text/plain": [
       "Index(['parcelid', 'bathroomcnt', 'bedroomcnt', 'calculatedfinishedsquarefeet',\n",
       "       'fips', 'latitude', 'longitude', 'poolcnt', 'propertycountylandusecode',\n",
       "       'propertylandusetypeid', 'propertylandusedesc',\n",
       "       'rawcensustractandblock', 'regionidcounty', 'roomcnt', 'unitcnt',\n",
       "       'yearbuilt', 'structuretaxvaluedollarcnt', 'taxvaluedollarcnt',\n",
       "       'assessmentyear', 'landtaxvaluedollarcnt', 'taxamount',\n",
       "       'censustractandblock', 'logerror', 'transactiondate'],\n",
       "      dtype='object')"
      ]
     },
     "execution_count": 284,
     "metadata": {},
     "output_type": "execute_result"
    }
   ],
   "source": [
    "percent_mask = ((new_df.isnull().sum() / new_df.shape[0]) < .01)\n",
    "\n",
    "percent_mask[percent_mask == True].index"
   ]
  },
  {
   "cell_type": "code",
   "execution_count": 280,
   "id": "d51bf4b0-a542-4123-8724-075566345532",
   "metadata": {},
   "outputs": [],
   "source": [
    "    lis =((100 * df.isnull().sum() / len(df))> 0) &  ((100 * df.isnull().sum() / len(df))< 1)\n",
    "    col_drop = list(lis[lis == True].index)\n",
    "    df = df.dropna(axis=0, subset = col_drop)"
   ]
  },
  {
   "cell_type": "code",
   "execution_count": 15,
   "id": "8a940533-35c2-4a03-8986-0d11f40426a4",
   "metadata": {},
   "outputs": [],
   "source": [
    "# still have some nulls down at the bottom. Drop those rows with less than a percent missing. \n",
    "# put in wrangle\n",
    "def drop_rows_low_percent(df):\n",
    "    '''\n",
    "    Finds columns with missing values less than 1 percent. Drops all rows with missing values in those rows.\n",
    "    '''\n",
    "    \n",
    "    has_percent_below_one = ((df.isnull().sum() / df.shape[0]) < .01)\n",
    "    \n",
    "    one_percenters = list(has_percent_below_one[has_percent_below_one == True].index)\n",
    "    \n",
    "    df = df.dropna(axis=0, subset=one_percenters)\n",
    "    \n",
    "    return df"
   ]
  },
  {
   "cell_type": "code",
   "execution_count": 311,
   "id": "569456e9-3cb4-4f06-9d95-f3d64231414d",
   "metadata": {},
   "outputs": [],
   "source": [
    "new_df1 = drop_rows_low_percent(new_df)"
   ]
  },
  {
   "cell_type": "code",
   "execution_count": 312,
   "id": "8c1ebe4c-f858-410b-ac91-b770bdb8c09d",
   "metadata": {},
   "outputs": [
    {
     "name": "stdout",
     "output_type": "stream",
     "text": [
      "Your selected dataframe has 26 columns.\n",
      "There are 2 columns that have missing values.\n"
     ]
    },
    {
     "data": {
      "text/html": [
       "<div>\n",
       "<style scoped>\n",
       "    .dataframe tbody tr th:only-of-type {\n",
       "        vertical-align: middle;\n",
       "    }\n",
       "\n",
       "    .dataframe tbody tr th {\n",
       "        vertical-align: top;\n",
       "    }\n",
       "\n",
       "    .dataframe thead th {\n",
       "        text-align: right;\n",
       "    }\n",
       "</style>\n",
       "<table border=\"1\" class=\"dataframe\">\n",
       "  <thead>\n",
       "    <tr style=\"text-align: right;\">\n",
       "      <th></th>\n",
       "      <th>Missing Values</th>\n",
       "      <th>% of Total Values</th>\n",
       "    </tr>\n",
       "  </thead>\n",
       "  <tbody>\n",
       "    <tr>\n",
       "      <th>lotsizesquarefeet</th>\n",
       "      <td>7888</td>\n",
       "      <td>11.1</td>\n",
       "    </tr>\n",
       "    <tr>\n",
       "      <th>regionidcity</th>\n",
       "      <td>1287</td>\n",
       "      <td>1.8</td>\n",
       "    </tr>\n",
       "  </tbody>\n",
       "</table>\n",
       "</div>"
      ],
      "text/plain": [
       "                   Missing Values  % of Total Values\n",
       "lotsizesquarefeet            7888               11.1\n",
       "regionidcity                 1287                1.8"
      ]
     },
     "execution_count": 312,
     "metadata": {},
     "output_type": "execute_result"
    }
   ],
   "source": [
    "missing_values_table(new_df1)"
   ]
  },
  {
   "cell_type": "code",
   "execution_count": 320,
   "id": "5c76d854-d2cb-40d4-aeb2-6877e987ef58",
   "metadata": {},
   "outputs": [
    {
     "data": {
      "text/plain": [
       "(71238, 26)"
      ]
     },
     "execution_count": 320,
     "metadata": {},
     "output_type": "execute_result"
    }
   ],
   "source": [
    "new_df.shape"
   ]
  },
  {
   "cell_type": "code",
   "execution_count": 324,
   "id": "d3a3e3e9-4420-4d91-aa4a-edef6270396d",
   "metadata": {},
   "outputs": [],
   "source": [
    "# only rows left with Nans are lotsizesquarefeet and regionidcity\n",
    "# regionidcity should be captured in long and lat DROP COLUMN\n",
    "# lotsizesquarefeet might not have impact on error. DROP FOR NOW. MAYBY IMPUTE LATER\n",
    "\n",
    "new_df = new_df.drop(columns = ['lotsizesquarefeet', 'regionidcity'])"
   ]
  },
  {
   "cell_type": "code",
   "execution_count": 16,
   "id": "fcb217cb-830f-4dd0-9dcc-745a0692c125",
   "metadata": {},
   "outputs": [],
   "source": [
    "def drop_unneeded_cols(df, unneeded_cols = ['lotsizesquarefeet', 'regionidcity']):\n",
    "    '''\n",
    "    This function takes in a dataframe and a list of unneeded columns (default is for zillow data)\n",
    "    Returns dataframe with those columns dropped\n",
    "    '''\n",
    "    df = df.drop(columns = unneeded_cols)\n",
    "    \n",
    "    return df"
   ]
  },
  {
   "cell_type": "markdown",
   "id": "d7fcdedb-af21-4da1-b067-2074f4183ff5",
   "metadata": {},
   "source": [
    "3. Decide how to handle the remaining missing values:\n",
    "    - Fill with constant value.\n",
    "    - Impute with mean, median, mode.\n",
    "    - Drop row/column\n",
    "\n"
   ]
  },
  {
   "cell_type": "code",
   "execution_count": 323,
   "id": "8acbfeab-0207-4744-a446-8595e3bca7e7",
   "metadata": {},
   "outputs": [
    {
     "data": {
      "text/plain": [
       "count    6.335000e+04\n",
       "mean     3.078310e+04\n",
       "std      1.265990e+05\n",
       "min      2.360000e+02\n",
       "25%      5.855000e+03\n",
       "50%      7.325500e+03\n",
       "75%      1.240000e+04\n",
       "max      6.971010e+06\n",
       "Name: lotsizesquarefeet, dtype: float64"
      ]
     },
     "execution_count": 323,
     "metadata": {},
     "output_type": "execute_result"
    }
   ],
   "source": [
    "new_df.lotsizesquarefeet.describe()"
   ]
  },
  {
   "cell_type": "code",
   "execution_count": 5,
   "id": "7714b28e-cc60-4162-bc97-7b0d18d9fca3",
   "metadata": {},
   "outputs": [],
   "source": [
    "def remove_outliers(df, k, col_list):\n",
    "    '''\n",
    "    This function takes in a dataframe, k value, and column list and \n",
    "    k = number times interquartile range you would like to remove\n",
    "    col_list = names of columns you want outliers removed from\n",
    "    removes outliers from a list of columns in a dataframe \n",
    "    and return that dataframe\n",
    "    '''\n",
    "    \n",
    "    for col in col_list:\n",
    "\n",
    "        q1, q3 = df[f'{col}'].quantile([.25, .75])  # get quartiles\n",
    "        \n",
    "        iqr = q3 - q1   # calculate interquartile range\n",
    "        \n",
    "        upper_bound = q3 + k * iqr   # get upper bound\n",
    "        lower_bound = q1 - k * iqr   # get lower bound\n",
    "\n",
    "        # return dataframe without outliers\n",
    "        \n",
    "        df = df[(df[f'{col}'] > lower_bound) & (df[f'{col}'] < upper_bound)]\n",
    "        \n",
    "    return df"
   ]
  },
  {
   "cell_type": "code",
   "execution_count": null,
   "id": "8b098062-0797-427a-b540-f776a1a6ab7d",
   "metadata": {},
   "outputs": [],
   "source": []
  },
  {
   "cell_type": "markdown",
   "id": "e4d3a4fc-7ede-49c4-81c8-c7975df9fcbe",
   "metadata": {},
   "source": [
    "#### wrangle_zillow.py\n",
    "Functions of the work above needed to acquire and prepare a new sample of data."
   ]
  },
  {
   "cell_type": "code",
   "execution_count": 2,
   "id": "df30f06f-0fd2-47f3-9e96-974e0f9d97bc",
   "metadata": {},
   "outputs": [
    {
     "name": "stdout",
     "output_type": "stream",
     "text": [
      "train --> (39893, 25)\n",
      "validate --> (17097, 25)\n",
      "test --> (14248, 25)\n"
     ]
    }
   ],
   "source": [
    "train, validate, test = w.wrangle_zillow()"
   ]
  },
  {
   "cell_type": "code",
   "execution_count": 3,
   "id": "99c430a6-9a49-4be3-92d5-20332668156b",
   "metadata": {},
   "outputs": [
    {
     "name": "stdout",
     "output_type": "stream",
     "text": [
      "Your selected dataframe has 25 columns.\n",
      "There are 0 columns that have missing values.\n"
     ]
    },
    {
     "data": {
      "text/html": [
       "<div>\n",
       "<style scoped>\n",
       "    .dataframe tbody tr th:only-of-type {\n",
       "        vertical-align: middle;\n",
       "    }\n",
       "\n",
       "    .dataframe tbody tr th {\n",
       "        vertical-align: top;\n",
       "    }\n",
       "\n",
       "    .dataframe thead th {\n",
       "        text-align: right;\n",
       "    }\n",
       "</style>\n",
       "<table border=\"1\" class=\"dataframe\">\n",
       "  <thead>\n",
       "    <tr style=\"text-align: right;\">\n",
       "      <th></th>\n",
       "      <th>Missing Values</th>\n",
       "      <th>% of Total Values</th>\n",
       "    </tr>\n",
       "  </thead>\n",
       "  <tbody>\n",
       "  </tbody>\n",
       "</table>\n",
       "</div>"
      ],
      "text/plain": [
       "Empty DataFrame\n",
       "Columns: [Missing Values, % of Total Values]\n",
       "Index: []"
      ]
     },
     "execution_count": 3,
     "metadata": {},
     "output_type": "execute_result"
    }
   ],
   "source": [
    "w.missing_values_table(train)"
   ]
  },
  {
   "cell_type": "code",
   "execution_count": null,
   "id": "28806f54-1aa0-42da-86e4-ea8df8e59d56",
   "metadata": {},
   "outputs": [],
   "source": []
  }
 ],
 "metadata": {
  "kernelspec": {
   "display_name": "Python 3",
   "language": "python",
   "name": "python3"
  },
  "language_info": {
   "codemirror_mode": {
    "name": "ipython",
    "version": 3
   },
   "file_extension": ".py",
   "mimetype": "text/x-python",
   "name": "python",
   "nbconvert_exporter": "python",
   "pygments_lexer": "ipython3",
   "version": "3.8.5"
  }
 },
 "nbformat": 4,
 "nbformat_minor": 5
}
